{
 "cells": [
  {
   "cell_type": "code",
   "execution_count": 1,
   "id": "aadcd5cb",
   "metadata": {
    "execution": {
     "iopub.execute_input": "2024-09-08T09:40:27.541036Z",
     "iopub.status.busy": "2024-09-08T09:40:27.540212Z",
     "iopub.status.idle": "2024-09-08T09:40:32.538202Z",
     "shell.execute_reply": "2024-09-08T09:40:32.537276Z"
    },
    "papermill": {
     "duration": 5.020344,
     "end_time": "2024-09-08T09:40:32.540542",
     "exception": false,
     "start_time": "2024-09-08T09:40:27.520198",
     "status": "completed"
    },
    "tags": []
   },
   "outputs": [],
   "source": [
    "# Install packages here\n",
    "# Packages for data processing\n",
    "import numpy as np\n",
    "import pandas as pd\n",
    "import datetime\n",
    "from sklearn import preprocessing\n",
    "from sklearn.feature_extraction.text import TfidfVectorizer\n",
    "from sklearn.metrics.pairwise import cosine_similarity\n",
    "import re\n",
    "from scipy.sparse import csr_matrix\n",
    "import scipy as sp\n",
    "from nltk.corpus import words\n",
    "from surprise import Dataset, Reader, SVD, accuracy\n",
    "from surprise.model_selection import train_test_split\n",
    "# Packages for visualization\n",
    "import matplotlib.pyplot as plt\n",
    "import seaborn as sns\n",
    "%matplotlib inline\n",
    "\n",
    "import heapq\n",
    "from joblib import Parallel, delayed\n",
    "import multiprocessing\n",
    "from tqdm import tqdm\n",
    "from tqdm.notebook import tqdm as tqdm_notebook\n",
    "\n",
    "tqdm.pandas()\n",
    "\n",
    "# Packages for model evaluation\n",
    "from sklearn.metrics import mean_squared_error\n",
    "from time import time\n",
    "\n",
    "# Package to suppress warnings\n",
    "import warnings\n",
    "warnings.filterwarnings(\"ignore\")"
   ]
  },
  {
   "cell_type": "markdown",
   "id": "b3e09f32",
   "metadata": {
    "papermill": {
     "duration": 0.019424,
     "end_time": "2024-09-08T09:40:32.578745",
     "exception": false,
     "start_time": "2024-09-08T09:40:32.559321",
     "status": "completed"
    },
    "tags": []
   },
   "source": [
    "# 1. Data Preprocessing"
   ]
  },
  {
   "cell_type": "code",
   "execution_count": 2,
   "id": "7abfd232",
   "metadata": {
    "execution": {
     "iopub.execute_input": "2024-09-08T09:40:32.616386Z",
     "iopub.status.busy": "2024-09-08T09:40:32.615999Z",
     "iopub.status.idle": "2024-09-08T09:40:58.062020Z",
     "shell.execute_reply": "2024-09-08T09:40:58.060986Z"
    },
    "papermill": {
     "duration": 25.467744,
     "end_time": "2024-09-08T09:40:58.064718",
     "exception": false,
     "start_time": "2024-09-08T09:40:32.596974",
     "status": "completed"
    },
    "tags": []
   },
   "outputs": [],
   "source": [
    "# Load the datasets\n",
    "g_scores = pd.read_csv('/kaggle/input/alx-movie-recommendation-project-2024/genome_scores.csv')\n",
    "g_tags = pd.read_csv('/kaggle/input/alx-movie-recommendation-project-2024/genome_tags.csv')\n",
    "# imdb = pd.read_csv('/kaggle/input/alx-movie-recommendation-project-2024/imdb_data.csv')\n",
    "# links = pd.read_csv('/kaggle/input/alx-movie-recommendation-project-2024/links.csv')\n",
    "movies = pd.read_csv('/kaggle/input/alx-movie-recommendation-project-2024/movies.csv')\n",
    "tags = pd.read_csv('/kaggle/input/alx-movie-recommendation-project-2024/tags.csv')\n",
    "train = pd.read_csv('/kaggle/input/alx-movie-recommendation-project-2024/train.csv')\n",
    "test = pd.read_csv('/kaggle/input/alx-movie-recommendation-project-2024/test.csv')\n",
    "subm = pd.read_csv('/kaggle/input/alx-movie-recommendation-project-2024/sample_submission.csv')"
   ]
  },
  {
   "cell_type": "markdown",
   "id": "62fe4ece",
   "metadata": {
    "papermill": {
     "duration": 0.01886,
     "end_time": "2024-09-08T09:40:58.103069",
     "exception": false,
     "start_time": "2024-09-08T09:40:58.084209",
     "status": "completed"
    },
    "tags": []
   },
   "source": [
    "##  Inspect Data\n",
    "\n",
    "Inspect data and check for missing values"
   ]
  },
  {
   "cell_type": "code",
   "execution_count": 3,
   "id": "910131c3",
   "metadata": {
    "execution": {
     "iopub.execute_input": "2024-09-08T09:40:58.141008Z",
     "iopub.status.busy": "2024-09-08T09:40:58.140644Z",
     "iopub.status.idle": "2024-09-08T09:40:58.311823Z",
     "shell.execute_reply": "2024-09-08T09:40:58.310977Z"
    },
    "papermill": {
     "duration": 0.192826,
     "end_time": "2024-09-08T09:40:58.314100",
     "exception": false,
     "start_time": "2024-09-08T09:40:58.121274",
     "status": "completed"
    },
    "tags": []
   },
   "outputs": [
    {
     "name": "stdout",
     "output_type": "stream",
     "text": [
      "Train: \n",
      "<class 'pandas.core.frame.DataFrame'>\n",
      "RangeIndex: 10000038 entries, 0 to 10000037\n",
      "Data columns (total 4 columns):\n",
      " #   Column     Dtype  \n",
      "---  ------     -----  \n",
      " 0   userId     int64  \n",
      " 1   movieId    int64  \n",
      " 2   rating     float64\n",
      " 3   timestamp  int64  \n",
      "dtypes: float64(1), int64(3)\n",
      "memory usage: 305.2 MB\n",
      "None\n",
      "************\n",
      "Test: \n",
      "<class 'pandas.core.frame.DataFrame'>\n",
      "RangeIndex: 5000019 entries, 0 to 5000018\n",
      "Data columns (total 2 columns):\n",
      " #   Column   Dtype\n",
      "---  ------   -----\n",
      " 0   userId   int64\n",
      " 1   movieId  int64\n",
      "dtypes: int64(2)\n",
      "memory usage: 76.3 MB\n",
      "None\n",
      "************\n",
      "Tags: \n",
      "<class 'pandas.core.frame.DataFrame'>\n",
      "RangeIndex: 1093360 entries, 0 to 1093359\n",
      "Data columns (total 4 columns):\n",
      " #   Column     Non-Null Count    Dtype \n",
      "---  ------     --------------    ----- \n",
      " 0   userId     1093360 non-null  int64 \n",
      " 1   movieId    1093360 non-null  int64 \n",
      " 2   tag        1093344 non-null  object\n",
      " 3   timestamp  1093360 non-null  int64 \n",
      "dtypes: int64(3), object(1)\n",
      "memory usage: 33.4+ MB\n",
      "None\n",
      "************\n",
      "Movies: \n",
      "<class 'pandas.core.frame.DataFrame'>\n",
      "RangeIndex: 62423 entries, 0 to 62422\n",
      "Data columns (total 3 columns):\n",
      " #   Column   Non-Null Count  Dtype \n",
      "---  ------   --------------  ----- \n",
      " 0   movieId  62423 non-null  int64 \n",
      " 1   title    62423 non-null  object\n",
      " 2   genres   62423 non-null  object\n",
      "dtypes: int64(1), object(2)\n",
      "memory usage: 1.4+ MB\n",
      "None\n",
      "************\n",
      "Genome Tags: \n",
      "<class 'pandas.core.frame.DataFrame'>\n",
      "RangeIndex: 1128 entries, 0 to 1127\n",
      "Data columns (total 2 columns):\n",
      " #   Column  Non-Null Count  Dtype \n",
      "---  ------  --------------  ----- \n",
      " 0   tagId   1128 non-null   int64 \n",
      " 1   tag     1128 non-null   object\n",
      "dtypes: int64(1), object(1)\n",
      "memory usage: 17.8+ KB\n",
      "None\n",
      "************\n",
      "Genome Scores: \n",
      "<class 'pandas.core.frame.DataFrame'>\n",
      "RangeIndex: 15584448 entries, 0 to 15584447\n",
      "Data columns (total 3 columns):\n",
      " #   Column     Dtype  \n",
      "---  ------     -----  \n",
      " 0   movieId    int64  \n",
      " 1   tagId      int64  \n",
      " 2   relevance  float64\n",
      "dtypes: float64(1), int64(2)\n",
      "memory usage: 356.7 MB\n",
      "None\n"
     ]
    }
   ],
   "source": [
    "print(\"Train: \")\n",
    "print(train.info())\n",
    "print(\"************\")\n",
    "print(\"Test: \")\n",
    "print(test.info())\n",
    "print(\"************\")\n",
    "print(\"Tags: \")\n",
    "print(tags.info())\n",
    "print(\"************\")\n",
    "print(\"Movies: \")\n",
    "print(movies.info())\n",
    "print(\"************\")\n",
    "#print(\"Links: \")\n",
    "#print(links.info())\n",
    "#print(\"************\")\n",
    "#print(\"IMDB: \")\n",
    "#print(imdb.info())\n",
    "#print(\"************\")\n",
    "print(\"Genome Tags: \")\n",
    "print(g_tags.info())\n",
    "print(\"************\")\n",
    "print(\"Genome Scores: \")\n",
    "print(g_scores.info())"
   ]
  },
  {
   "cell_type": "code",
   "execution_count": 4,
   "id": "ce7b2d4a",
   "metadata": {
    "execution": {
     "iopub.execute_input": "2024-09-08T09:40:58.352442Z",
     "iopub.status.busy": "2024-09-08T09:40:58.351792Z",
     "iopub.status.idle": "2024-09-08T09:40:58.565646Z",
     "shell.execute_reply": "2024-09-08T09:40:58.564628Z"
    },
    "papermill": {
     "duration": 0.235104,
     "end_time": "2024-09-08T09:40:58.567627",
     "exception": false,
     "start_time": "2024-09-08T09:40:58.332523",
     "status": "completed"
    },
    "tags": []
   },
   "outputs": [
    {
     "name": "stdout",
     "output_type": "stream",
     "text": [
      "Train: \n",
      "userId       0\n",
      "movieId      0\n",
      "rating       0\n",
      "timestamp    0\n",
      "dtype: int64\n",
      "************\n",
      "Test: \n",
      "userId     0\n",
      "movieId    0\n",
      "dtype: int64\n",
      "************\n",
      "Tags: \n",
      "userId        0\n",
      "movieId       0\n",
      "tag          16\n",
      "timestamp     0\n",
      "dtype: int64\n",
      "************\n",
      "Movies: \n",
      "movieId    0\n",
      "title      0\n",
      "genres     0\n",
      "dtype: int64\n",
      "************\n",
      "Genome scores: \n",
      "movieId      0\n",
      "tagId        0\n",
      "relevance    0\n",
      "dtype: int64\n",
      "************\n",
      "Genome tags: \n",
      "tagId    0\n",
      "tag      0\n",
      "dtype: int64\n"
     ]
    }
   ],
   "source": [
    "print(\"Train: \")\n",
    "print(str(train.isnull().sum()))\n",
    "print(\"************\")\n",
    "print(\"Test: \")\n",
    "print(str(test.isnull().sum()))\n",
    "print(\"************\")\n",
    "print(\"Tags: \")\n",
    "print(str(tags.isnull().sum()))\n",
    "print(\"************\")\n",
    "print(\"Movies: \")\n",
    "print(str(movies.isnull().sum()))\n",
    "print(\"************\")\n",
    "#print(\"Links: \")\n",
    "#print(str(links.isnull().sum()))\n",
    "#print(\"************\")\n",
    "#print(\"IMDB: \")\n",
    "#print(str(imdb.isnull().sum()))\n",
    "#print(\"************\")\n",
    "print(\"Genome scores: \")\n",
    "print(str(g_scores.isnull().sum()))\n",
    "print(\"************\")\n",
    "print(\"Genome tags: \")\n",
    "print(str(g_tags.isnull().sum()))"
   ]
  },
  {
   "cell_type": "markdown",
   "id": "97ee7fcc",
   "metadata": {
    "papermill": {
     "duration": 0.019795,
     "end_time": "2024-09-08T09:40:58.607569",
     "exception": false,
     "start_time": "2024-09-08T09:40:58.587774",
     "status": "completed"
    },
    "tags": []
   },
   "source": [
    "Alot of our data seems to be in god shape in terms of not having null values. The Imdb data has alot of null values in all its columns except one. So we might have to ignore the data for now. The tmdbId column in link df has some null values which we will ignore for now as we dont have need for it.\n",
    "In the Tags df, there are 16 null values in the tag column which will be handled below using mode imputation."
   ]
  },
  {
   "cell_type": "code",
   "execution_count": 5,
   "id": "622af074",
   "metadata": {
    "execution": {
     "iopub.execute_input": "2024-09-08T09:40:58.646896Z",
     "iopub.status.busy": "2024-09-08T09:40:58.646537Z",
     "iopub.status.idle": "2024-09-08T09:41:04.783077Z",
     "shell.execute_reply": "2024-09-08T09:41:04.782275Z"
    },
    "papermill": {
     "duration": 6.159457,
     "end_time": "2024-09-08T09:41:04.785642",
     "exception": false,
     "start_time": "2024-09-08T09:40:58.626185",
     "status": "completed"
    },
    "tags": []
   },
   "outputs": [],
   "source": [
    "# Calculate the mode of \"tag\" grouped by \"movieId\"\n",
    "movie_tag_mode = tags.groupby('movieId')['tag'].apply(lambda x: x.mode().iloc[0])\n",
    "\n",
    "# Fill null values in \"tag\" column with the corresponding mode\n",
    "tags['tag'] = tags['tag'].fillna(tags['movieId'].map(movie_tag_mode))"
   ]
  },
  {
   "cell_type": "code",
   "execution_count": 6,
   "id": "dfbb3cef",
   "metadata": {
    "execution": {
     "iopub.execute_input": "2024-09-08T09:41:04.825219Z",
     "iopub.status.busy": "2024-09-08T09:41:04.824612Z",
     "iopub.status.idle": "2024-09-08T09:41:04.931666Z",
     "shell.execute_reply": "2024-09-08T09:41:04.930821Z"
    },
    "papermill": {
     "duration": 0.128686,
     "end_time": "2024-09-08T09:41:04.933552",
     "exception": false,
     "start_time": "2024-09-08T09:41:04.804866",
     "status": "completed"
    },
    "tags": []
   },
   "outputs": [
    {
     "data": {
      "text/plain": [
       "userId       0\n",
       "movieId      0\n",
       "tag          0\n",
       "timestamp    0\n",
       "dtype: int64"
      ]
     },
     "execution_count": 6,
     "metadata": {},
     "output_type": "execute_result"
    }
   ],
   "source": [
    "tags.isnull().sum()"
   ]
  },
  {
   "cell_type": "markdown",
   "id": "acab48ff",
   "metadata": {
    "papermill": {
     "duration": 0.018543,
     "end_time": "2024-09-08T09:41:04.970751",
     "exception": false,
     "start_time": "2024-09-08T09:41:04.952208",
     "status": "completed"
    },
    "tags": []
   },
   "source": [
    "## Streamlining Our Data\n",
    "Lets focus on relevant data at hand. For now we will ignore imdb and links dataset. We will be joining relevant tables for a more focused view of the datasets we're working with. g_tags and g_scores will be joined to form the genome dataframe. We will extract the top 30 tags by relevance score from these which will be used as the relevant tags for each movie. We will also collate all the tags assigned to a each movie by all users that have tagged it. This tags will be used as the user given tags for the movies. Then we will left join our genome tags and user tags to movie data to form our main movie dataframe. So we will be having 2 main dataset to focus on(Train data and Movie_df)."
   ]
  },
  {
   "cell_type": "code",
   "execution_count": 7,
   "id": "019131de",
   "metadata": {
    "execution": {
     "iopub.execute_input": "2024-09-08T09:41:05.009368Z",
     "iopub.status.busy": "2024-09-08T09:41:05.009087Z",
     "iopub.status.idle": "2024-09-08T09:41:06.627068Z",
     "shell.execute_reply": "2024-09-08T09:41:06.626129Z"
    },
    "papermill": {
     "duration": 1.639787,
     "end_time": "2024-09-08T09:41:06.629272",
     "exception": false,
     "start_time": "2024-09-08T09:41:04.989485",
     "status": "completed"
    },
    "tags": []
   },
   "outputs": [
    {
     "name": "stdout",
     "output_type": "stream",
     "text": [
      "<class 'pandas.core.frame.DataFrame'>\n",
      "RangeIndex: 15584448 entries, 0 to 15584447\n",
      "Data columns (total 4 columns):\n",
      " #   Column     Dtype  \n",
      "---  ------     -----  \n",
      " 0   movieId    int64  \n",
      " 1   tagId      int64  \n",
      " 2   relevance  float64\n",
      " 3   tag        object \n",
      "dtypes: float64(1), int64(2), object(1)\n",
      "memory usage: 475.6+ MB\n",
      "None\n"
     ]
    },
    {
     "data": {
      "text/html": [
       "<div>\n",
       "<style scoped>\n",
       "    .dataframe tbody tr th:only-of-type {\n",
       "        vertical-align: middle;\n",
       "    }\n",
       "\n",
       "    .dataframe tbody tr th {\n",
       "        vertical-align: top;\n",
       "    }\n",
       "\n",
       "    .dataframe thead th {\n",
       "        text-align: right;\n",
       "    }\n",
       "</style>\n",
       "<table border=\"1\" class=\"dataframe\">\n",
       "  <thead>\n",
       "    <tr style=\"text-align: right;\">\n",
       "      <th></th>\n",
       "      <th>movieId</th>\n",
       "      <th>tagId</th>\n",
       "      <th>relevance</th>\n",
       "      <th>tag</th>\n",
       "    </tr>\n",
       "  </thead>\n",
       "  <tbody>\n",
       "    <tr>\n",
       "      <th>0</th>\n",
       "      <td>1</td>\n",
       "      <td>1</td>\n",
       "      <td>0.02875</td>\n",
       "      <td>007</td>\n",
       "    </tr>\n",
       "    <tr>\n",
       "      <th>1</th>\n",
       "      <td>1</td>\n",
       "      <td>2</td>\n",
       "      <td>0.02375</td>\n",
       "      <td>007 (series)</td>\n",
       "    </tr>\n",
       "    <tr>\n",
       "      <th>2</th>\n",
       "      <td>1</td>\n",
       "      <td>3</td>\n",
       "      <td>0.06250</td>\n",
       "      <td>18th century</td>\n",
       "    </tr>\n",
       "    <tr>\n",
       "      <th>3</th>\n",
       "      <td>1</td>\n",
       "      <td>4</td>\n",
       "      <td>0.07575</td>\n",
       "      <td>1920s</td>\n",
       "    </tr>\n",
       "    <tr>\n",
       "      <th>4</th>\n",
       "      <td>1</td>\n",
       "      <td>5</td>\n",
       "      <td>0.14075</td>\n",
       "      <td>1930s</td>\n",
       "    </tr>\n",
       "  </tbody>\n",
       "</table>\n",
       "</div>"
      ],
      "text/plain": [
       "   movieId  tagId  relevance           tag\n",
       "0        1      1    0.02875           007\n",
       "1        1      2    0.02375  007 (series)\n",
       "2        1      3    0.06250  18th century\n",
       "3        1      4    0.07575         1920s\n",
       "4        1      5    0.14075         1930s"
      ]
     },
     "execution_count": 7,
     "metadata": {},
     "output_type": "execute_result"
    }
   ],
   "source": [
    "# Merge g_tags with g_scores data\n",
    "genome = g_scores.merge(g_tags, on='tagId', how='left')\n",
    "print(genome.info())\n",
    "genome.head()"
   ]
  },
  {
   "cell_type": "code",
   "execution_count": 8,
   "id": "8a0481c6",
   "metadata": {
    "execution": {
     "iopub.execute_input": "2024-09-08T09:41:06.669501Z",
     "iopub.status.busy": "2024-09-08T09:41:06.669210Z",
     "iopub.status.idle": "2024-09-08T09:41:06.785188Z",
     "shell.execute_reply": "2024-09-08T09:41:06.784176Z"
    },
    "papermill": {
     "duration": 0.138861,
     "end_time": "2024-09-08T09:41:06.787652",
     "exception": false,
     "start_time": "2024-09-08T09:41:06.648791",
     "status": "completed"
    },
    "tags": []
   },
   "outputs": [],
   "source": [
    "# drop timestamp column in train and tags data\n",
    "train.drop('timestamp', axis=1, inplace=True)\n",
    "tags.drop('timestamp', axis=1, inplace=True)"
   ]
  },
  {
   "cell_type": "code",
   "execution_count": 9,
   "id": "4a947f89",
   "metadata": {
    "execution": {
     "iopub.execute_input": "2024-09-08T09:41:06.827509Z",
     "iopub.status.busy": "2024-09-08T09:41:06.827212Z",
     "iopub.status.idle": "2024-09-08T09:41:08.255494Z",
     "shell.execute_reply": "2024-09-08T09:41:08.254731Z"
    },
    "papermill": {
     "duration": 1.450558,
     "end_time": "2024-09-08T09:41:08.257726",
     "exception": false,
     "start_time": "2024-09-08T09:41:06.807168",
     "status": "completed"
    },
    "tags": []
   },
   "outputs": [],
   "source": [
    "# Aggregate user tags for each movie\n",
    "user_tags = tags.groupby('movieId')['tag'].apply(lambda x: ' '.join(x)).reset_index()"
   ]
  },
  {
   "cell_type": "code",
   "execution_count": 10,
   "id": "aa4259a5",
   "metadata": {
    "execution": {
     "iopub.execute_input": "2024-09-08T09:41:08.297808Z",
     "iopub.status.busy": "2024-09-08T09:41:08.297502Z",
     "iopub.status.idle": "2024-09-08T09:41:08.307392Z",
     "shell.execute_reply": "2024-09-08T09:41:08.306531Z"
    },
    "papermill": {
     "duration": 0.032263,
     "end_time": "2024-09-08T09:41:08.309615",
     "exception": false,
     "start_time": "2024-09-08T09:41:08.277352",
     "status": "completed"
    },
    "tags": []
   },
   "outputs": [
    {
     "data": {
      "text/html": [
       "<div>\n",
       "<style scoped>\n",
       "    .dataframe tbody tr th:only-of-type {\n",
       "        vertical-align: middle;\n",
       "    }\n",
       "\n",
       "    .dataframe tbody tr th {\n",
       "        vertical-align: top;\n",
       "    }\n",
       "\n",
       "    .dataframe thead th {\n",
       "        text-align: right;\n",
       "    }\n",
       "</style>\n",
       "<table border=\"1\" class=\"dataframe\">\n",
       "  <thead>\n",
       "    <tr style=\"text-align: right;\">\n",
       "      <th></th>\n",
       "      <th>movieId</th>\n",
       "      <th>tag</th>\n",
       "    </tr>\n",
       "  </thead>\n",
       "  <tbody>\n",
       "    <tr>\n",
       "      <th>0</th>\n",
       "      <td>1</td>\n",
       "      <td>Owned imdb top 250 Pixar Pixar time travel chi...</td>\n",
       "    </tr>\n",
       "    <tr>\n",
       "      <th>1</th>\n",
       "      <td>2</td>\n",
       "      <td>Robin Williams time travel fantasy based on ch...</td>\n",
       "    </tr>\n",
       "    <tr>\n",
       "      <th>2</th>\n",
       "      <td>3</td>\n",
       "      <td>funny best friend duringcreditsstinger fishing...</td>\n",
       "    </tr>\n",
       "    <tr>\n",
       "      <th>3</th>\n",
       "      <td>4</td>\n",
       "      <td>based on novel or book chick flick divorce int...</td>\n",
       "    </tr>\n",
       "    <tr>\n",
       "      <th>4</th>\n",
       "      <td>5</td>\n",
       "      <td>aging baby confidence contraception daughter g...</td>\n",
       "    </tr>\n",
       "    <tr>\n",
       "      <th>...</th>\n",
       "      <td>...</td>\n",
       "      <td>...</td>\n",
       "    </tr>\n",
       "    <tr>\n",
       "      <th>45246</th>\n",
       "      <td>208813</td>\n",
       "      <td>might like</td>\n",
       "    </tr>\n",
       "    <tr>\n",
       "      <th>45247</th>\n",
       "      <td>208933</td>\n",
       "      <td>black and white deal with the devil</td>\n",
       "    </tr>\n",
       "    <tr>\n",
       "      <th>45248</th>\n",
       "      <td>209035</td>\n",
       "      <td>computer animation Japan mass behavior mass sc...</td>\n",
       "    </tr>\n",
       "    <tr>\n",
       "      <th>45249</th>\n",
       "      <td>209037</td>\n",
       "      <td>chameleon computer animation gluttony humorous...</td>\n",
       "    </tr>\n",
       "    <tr>\n",
       "      <th>45250</th>\n",
       "      <td>209063</td>\n",
       "      <td>black education friends schools independent sc...</td>\n",
       "    </tr>\n",
       "  </tbody>\n",
       "</table>\n",
       "<p>45251 rows × 2 columns</p>\n",
       "</div>"
      ],
      "text/plain": [
       "       movieId                                                tag\n",
       "0            1  Owned imdb top 250 Pixar Pixar time travel chi...\n",
       "1            2  Robin Williams time travel fantasy based on ch...\n",
       "2            3  funny best friend duringcreditsstinger fishing...\n",
       "3            4  based on novel or book chick flick divorce int...\n",
       "4            5  aging baby confidence contraception daughter g...\n",
       "...        ...                                                ...\n",
       "45246   208813                                         might like\n",
       "45247   208933                black and white deal with the devil\n",
       "45248   209035  computer animation Japan mass behavior mass sc...\n",
       "45249   209037  chameleon computer animation gluttony humorous...\n",
       "45250   209063  black education friends schools independent sc...\n",
       "\n",
       "[45251 rows x 2 columns]"
      ]
     },
     "execution_count": 10,
     "metadata": {},
     "output_type": "execute_result"
    }
   ],
   "source": [
    "user_tags"
   ]
  },
  {
   "cell_type": "code",
   "execution_count": 11,
   "id": "b2a87453",
   "metadata": {
    "execution": {
     "iopub.execute_input": "2024-09-08T09:41:08.349496Z",
     "iopub.status.busy": "2024-09-08T09:41:08.349225Z",
     "iopub.status.idle": "2024-09-08T09:41:26.884196Z",
     "shell.execute_reply": "2024-09-08T09:41:26.883438Z"
    },
    "papermill": {
     "duration": 18.557312,
     "end_time": "2024-09-08T09:41:26.886529",
     "exception": false,
     "start_time": "2024-09-08T09:41:08.329217",
     "status": "completed"
    },
    "tags": []
   },
   "outputs": [],
   "source": [
    "# Function to get top 30 tags based on relevance score for each movie\n",
    "def get_top_30_tags(df):\n",
    "    return df.nlargest(30, 'relevance')['tag'].tolist()\n",
    "\n",
    "# Apply the function to filter and aggregate tags in genome data\n",
    "top_genome_tags = genome.groupby('movieId').apply(get_top_30_tags).reset_index()\n",
    "top_genome_tags.columns = ['movieId', 'tags']\n",
    "\n",
    "# Convert the list of tags to a single string for each movie\n",
    "top_genome_tags['tags'] = top_genome_tags['tags'].apply(lambda x: ' '.join(x))"
   ]
  },
  {
   "cell_type": "code",
   "execution_count": 12,
   "id": "71b71cf0",
   "metadata": {
    "execution": {
     "iopub.execute_input": "2024-09-08T09:41:26.926640Z",
     "iopub.status.busy": "2024-09-08T09:41:26.926342Z",
     "iopub.status.idle": "2024-09-08T09:41:26.936132Z",
     "shell.execute_reply": "2024-09-08T09:41:26.935335Z"
    },
    "papermill": {
     "duration": 0.032011,
     "end_time": "2024-09-08T09:41:26.938232",
     "exception": false,
     "start_time": "2024-09-08T09:41:26.906221",
     "status": "completed"
    },
    "tags": []
   },
   "outputs": [
    {
     "data": {
      "text/html": [
       "<div>\n",
       "<style scoped>\n",
       "    .dataframe tbody tr th:only-of-type {\n",
       "        vertical-align: middle;\n",
       "    }\n",
       "\n",
       "    .dataframe tbody tr th {\n",
       "        vertical-align: top;\n",
       "    }\n",
       "\n",
       "    .dataframe thead th {\n",
       "        text-align: right;\n",
       "    }\n",
       "</style>\n",
       "<table border=\"1\" class=\"dataframe\">\n",
       "  <thead>\n",
       "    <tr style=\"text-align: right;\">\n",
       "      <th></th>\n",
       "      <th>movieId</th>\n",
       "      <th>tags</th>\n",
       "    </tr>\n",
       "  </thead>\n",
       "  <tbody>\n",
       "    <tr>\n",
       "      <th>0</th>\n",
       "      <td>1</td>\n",
       "      <td>toys computer animation pixar animation kids a...</td>\n",
       "    </tr>\n",
       "    <tr>\n",
       "      <th>1</th>\n",
       "      <td>2</td>\n",
       "      <td>adventure children fantasy kids special effect...</td>\n",
       "    </tr>\n",
       "    <tr>\n",
       "      <th>2</th>\n",
       "      <td>3</td>\n",
       "      <td>sequel good sequel sequels comedy original gun...</td>\n",
       "    </tr>\n",
       "    <tr>\n",
       "      <th>3</th>\n",
       "      <td>4</td>\n",
       "      <td>women chick flick divorce girlie movie romanti...</td>\n",
       "    </tr>\n",
       "    <tr>\n",
       "      <th>4</th>\n",
       "      <td>5</td>\n",
       "      <td>sequel good sequel father daughter relationshi...</td>\n",
       "    </tr>\n",
       "    <tr>\n",
       "      <th>...</th>\n",
       "      <td>...</td>\n",
       "      <td>...</td>\n",
       "    </tr>\n",
       "    <tr>\n",
       "      <th>13811</th>\n",
       "      <td>205072</td>\n",
       "      <td>dumb but funny original friendship runaway gre...</td>\n",
       "    </tr>\n",
       "    <tr>\n",
       "      <th>13812</th>\n",
       "      <td>205076</td>\n",
       "      <td>girlie movie light original feel-good oscar (b...</td>\n",
       "    </tr>\n",
       "    <tr>\n",
       "      <th>13813</th>\n",
       "      <td>205383</td>\n",
       "      <td>original chase suspense clever drama great end...</td>\n",
       "    </tr>\n",
       "    <tr>\n",
       "      <th>13814</th>\n",
       "      <td>205425</td>\n",
       "      <td>stand-up comedy original comedy highly quotabl...</td>\n",
       "    </tr>\n",
       "    <tr>\n",
       "      <th>13815</th>\n",
       "      <td>206499</td>\n",
       "      <td>original pg-13 light road trip pornography jus...</td>\n",
       "    </tr>\n",
       "  </tbody>\n",
       "</table>\n",
       "<p>13816 rows × 2 columns</p>\n",
       "</div>"
      ],
      "text/plain": [
       "       movieId                                               tags\n",
       "0            1  toys computer animation pixar animation kids a...\n",
       "1            2  adventure children fantasy kids special effect...\n",
       "2            3  sequel good sequel sequels comedy original gun...\n",
       "3            4  women chick flick divorce girlie movie romanti...\n",
       "4            5  sequel good sequel father daughter relationshi...\n",
       "...        ...                                                ...\n",
       "13811   205072  dumb but funny original friendship runaway gre...\n",
       "13812   205076  girlie movie light original feel-good oscar (b...\n",
       "13813   205383  original chase suspense clever drama great end...\n",
       "13814   205425  stand-up comedy original comedy highly quotabl...\n",
       "13815   206499  original pg-13 light road trip pornography jus...\n",
       "\n",
       "[13816 rows x 2 columns]"
      ]
     },
     "execution_count": 12,
     "metadata": {},
     "output_type": "execute_result"
    }
   ],
   "source": [
    "top_genome_tags"
   ]
  },
  {
   "cell_type": "code",
   "execution_count": 13,
   "id": "97993342",
   "metadata": {
    "execution": {
     "iopub.execute_input": "2024-09-08T09:41:26.979944Z",
     "iopub.status.busy": "2024-09-08T09:41:26.979221Z",
     "iopub.status.idle": "2024-09-08T09:41:27.002271Z",
     "shell.execute_reply": "2024-09-08T09:41:27.001603Z"
    },
    "papermill": {
     "duration": 0.045237,
     "end_time": "2024-09-08T09:41:27.004320",
     "exception": false,
     "start_time": "2024-09-08T09:41:26.959083",
     "status": "completed"
    },
    "tags": []
   },
   "outputs": [],
   "source": [
    "# Merge movies with user_tags and top_genome_tags dataframe to creae our movie_df data\n",
    "movies_df = movies.merge(user_tags, on='movieId', how='left')\n",
    "movies_df = movies_df.merge(top_genome_tags, on='movieId', how='left', suffixes=('_user', '_genome'))"
   ]
  },
  {
   "cell_type": "code",
   "execution_count": 14,
   "id": "1bb6926d",
   "metadata": {
    "execution": {
     "iopub.execute_input": "2024-09-08T09:41:27.045571Z",
     "iopub.status.busy": "2024-09-08T09:41:27.045094Z",
     "iopub.status.idle": "2024-09-08T09:41:27.071811Z",
     "shell.execute_reply": "2024-09-08T09:41:27.070864Z"
    },
    "papermill": {
     "duration": 0.049628,
     "end_time": "2024-09-08T09:41:27.073809",
     "exception": false,
     "start_time": "2024-09-08T09:41:27.024181",
     "status": "completed"
    },
    "tags": []
   },
   "outputs": [
    {
     "data": {
      "text/plain": [
       "movieId        0\n",
       "title          0\n",
       "genres         0\n",
       "tag        17172\n",
       "tags       48607\n",
       "dtype: int64"
      ]
     },
     "execution_count": 14,
     "metadata": {},
     "output_type": "execute_result"
    }
   ],
   "source": [
    "movies_df.isnull().sum()"
   ]
  },
  {
   "cell_type": "markdown",
   "id": "68f98588",
   "metadata": {
    "papermill": {
     "duration": 0.020243,
     "end_time": "2024-09-08T09:41:27.154711",
     "exception": false,
     "start_time": "2024-09-08T09:41:27.134468",
     "status": "completed"
    },
    "tags": []
   },
   "source": [
    "Due to the presece of a lot of null values, we can not use either of the user's tags and genome tags and our only characteristic features of the movie. So we will be joining values in genres, tag and tags to form a comprehensive Genre_Tags for each movie."
   ]
  },
  {
   "cell_type": "code",
   "execution_count": 15,
   "id": "293278b7",
   "metadata": {
    "execution": {
     "iopub.execute_input": "2024-09-08T09:41:27.197127Z",
     "iopub.status.busy": "2024-09-08T09:41:27.196321Z",
     "iopub.status.idle": "2024-09-08T09:41:27.342334Z",
     "shell.execute_reply": "2024-09-08T09:41:27.341381Z"
    },
    "papermill": {
     "duration": 0.169554,
     "end_time": "2024-09-08T09:41:27.344591",
     "exception": false,
     "start_time": "2024-09-08T09:41:27.175037",
     "status": "completed"
    },
    "tags": []
   },
   "outputs": [],
   "source": [
    "# Before joining the columns, lets clean genre column first\n",
    "# Split genres seperated by \"|\" and create a list containing the genres allocated to each movie\n",
    "movies_df.genres = movies_df.genres.apply(lambda x: x.split('|'))\n",
    "# Convert the list of genres to a single string for each movie\n",
    "movies_df.genres = movies_df.genres.apply(lambda x: ' '.join(x))"
   ]
  },
  {
   "cell_type": "code",
   "execution_count": 16,
   "id": "53b9bfab",
   "metadata": {
    "execution": {
     "iopub.execute_input": "2024-09-08T09:41:27.385952Z",
     "iopub.status.busy": "2024-09-08T09:41:27.385269Z",
     "iopub.status.idle": "2024-09-08T09:41:27.406101Z",
     "shell.execute_reply": "2024-09-08T09:41:27.405395Z"
    },
    "papermill": {
     "duration": 0.04334,
     "end_time": "2024-09-08T09:41:27.408039",
     "exception": false,
     "start_time": "2024-09-08T09:41:27.364699",
     "status": "completed"
    },
    "tags": []
   },
   "outputs": [],
   "source": [
    "# Also we need to clean the 2 tag columns so we dont join nan as a value\n",
    "# Fill null values with an empty string\n",
    "movies_df['tag'] = movies_df['tag'].fillna('')\n",
    "movies_df['tags'] = movies_df['tags'].fillna('')"
   ]
  },
  {
   "cell_type": "code",
   "execution_count": 17,
   "id": "09cfb29b",
   "metadata": {
    "execution": {
     "iopub.execute_input": "2024-09-08T09:41:27.448711Z",
     "iopub.status.busy": "2024-09-08T09:41:27.448231Z",
     "iopub.status.idle": "2024-09-08T09:41:28.672744Z",
     "shell.execute_reply": "2024-09-08T09:41:28.671987Z"
    },
    "papermill": {
     "duration": 1.247347,
     "end_time": "2024-09-08T09:41:28.674942",
     "exception": false,
     "start_time": "2024-09-08T09:41:27.427595",
     "status": "completed"
    },
    "tags": []
   },
   "outputs": [],
   "source": [
    "# Combine genre, user 'tag', and genome 'tags' into a single column\n",
    "movies_df['Genre_Tags'] = movies_df.apply(\n",
    "    lambda row: ' '.join([row['genres'], row['tag'], row['tags']]).lower(), axis=1)"
   ]
  },
  {
   "cell_type": "code",
   "execution_count": 18,
   "id": "02ee5b0e",
   "metadata": {
    "execution": {
     "iopub.execute_input": "2024-09-08T09:41:28.718343Z",
     "iopub.status.busy": "2024-09-08T09:41:28.717750Z",
     "iopub.status.idle": "2024-09-08T09:41:28.757223Z",
     "shell.execute_reply": "2024-09-08T09:41:28.756311Z"
    },
    "papermill": {
     "duration": 0.063628,
     "end_time": "2024-09-08T09:41:28.759409",
     "exception": false,
     "start_time": "2024-09-08T09:41:28.695781",
     "status": "completed"
    },
    "tags": []
   },
   "outputs": [
    {
     "data": {
      "text/plain": [
       "movieId       0\n",
       "title         0\n",
       "genres        0\n",
       "tag           0\n",
       "tags          0\n",
       "Genre_Tags    0\n",
       "dtype: int64"
      ]
     },
     "execution_count": 18,
     "metadata": {},
     "output_type": "execute_result"
    }
   ],
   "source": [
    "movies_df.isnull().sum()"
   ]
  },
  {
   "cell_type": "markdown",
   "id": "dda3bfaa",
   "metadata": {
    "papermill": {
     "duration": 0.020167,
     "end_time": "2024-09-08T09:41:28.801999",
     "exception": false,
     "start_time": "2024-09-08T09:41:28.781832",
     "status": "completed"
    },
    "tags": []
   },
   "source": [
    "We need to clean Genre_Tags column because alot of values will be duplicated from the joining task and also some nonsensical words are present which would introduce noise to Vectorization later. While cleaning, i want to make sure some unique words like '(no genres listed)', 'Sci-Fi', 'Film-Noir' are preserved as well."
   ]
  },
  {
   "cell_type": "code",
   "execution_count": 19,
   "id": "57d06e29",
   "metadata": {
    "execution": {
     "iopub.execute_input": "2024-09-08T09:41:28.844434Z",
     "iopub.status.busy": "2024-09-08T09:41:28.843717Z",
     "iopub.status.idle": "2024-09-08T09:41:28.868297Z",
     "shell.execute_reply": "2024-09-08T09:41:28.867473Z"
    },
    "papermill": {
     "duration": 0.047679,
     "end_time": "2024-09-08T09:41:28.870380",
     "exception": false,
     "start_time": "2024-09-08T09:41:28.822701",
     "status": "completed"
    },
    "tags": []
   },
   "outputs": [
    {
     "data": {
      "text/html": [
       "<div>\n",
       "<style scoped>\n",
       "    .dataframe tbody tr th:only-of-type {\n",
       "        vertical-align: middle;\n",
       "    }\n",
       "\n",
       "    .dataframe tbody tr th {\n",
       "        vertical-align: top;\n",
       "    }\n",
       "\n",
       "    .dataframe thead th {\n",
       "        text-align: right;\n",
       "    }\n",
       "</style>\n",
       "<table border=\"1\" class=\"dataframe\">\n",
       "  <thead>\n",
       "    <tr style=\"text-align: right;\">\n",
       "      <th></th>\n",
       "      <th>movieId</th>\n",
       "      <th>title</th>\n",
       "      <th>genres</th>\n",
       "      <th>tag</th>\n",
       "      <th>tags</th>\n",
       "      <th>Genre_Tags</th>\n",
       "    </tr>\n",
       "  </thead>\n",
       "  <tbody>\n",
       "    <tr>\n",
       "      <th>15881</th>\n",
       "      <td>83773</td>\n",
       "      <td>Away with Words (San tiao ren) (1999)</td>\n",
       "      <td>(no genres listed)</td>\n",
       "      <td>foreign language gay interest gay night club l...</td>\n",
       "      <td></td>\n",
       "      <td>(no genres listed) foreign language gay intere...</td>\n",
       "    </tr>\n",
       "    <tr>\n",
       "      <th>16060</th>\n",
       "      <td>84768</td>\n",
       "      <td>Glitterbug (1994)</td>\n",
       "      <td>(no genres listed)</td>\n",
       "      <td>experimental biography</td>\n",
       "      <td></td>\n",
       "      <td>(no genres listed) experimental biography</td>\n",
       "    </tr>\n",
       "    <tr>\n",
       "      <th>16351</th>\n",
       "      <td>86493</td>\n",
       "      <td>Age of the Earth, The (A Idade da Terra) (1980)</td>\n",
       "      <td>(no genres listed)</td>\n",
       "      <td>avant-garde bible christ allegory experimental...</td>\n",
       "      <td></td>\n",
       "      <td>(no genres listed) avant-garde bible christ al...</td>\n",
       "    </tr>\n",
       "    <tr>\n",
       "      <th>16491</th>\n",
       "      <td>87061</td>\n",
       "      <td>Trails (Veredas) (1978)</td>\n",
       "      <td>(no genres listed)</td>\n",
       "      <td>portugal trail based on a play João César Mont...</td>\n",
       "      <td></td>\n",
       "      <td>(no genres listed) portugal trail based on a p...</td>\n",
       "    </tr>\n",
       "    <tr>\n",
       "      <th>17404</th>\n",
       "      <td>91246</td>\n",
       "      <td>Milky Way (Tejút) (2007)</td>\n",
       "      <td>(no genres listed)</td>\n",
       "      <td></td>\n",
       "      <td></td>\n",
       "      <td>(no genres listed)</td>\n",
       "    </tr>\n",
       "    <tr>\n",
       "      <th>...</th>\n",
       "      <td>...</td>\n",
       "      <td>...</td>\n",
       "      <td>...</td>\n",
       "      <td>...</td>\n",
       "      <td>...</td>\n",
       "      <td>...</td>\n",
       "    </tr>\n",
       "    <tr>\n",
       "      <th>62400</th>\n",
       "      <td>209101</td>\n",
       "      <td>Hua yang de nian hua (2001)</td>\n",
       "      <td>(no genres listed)</td>\n",
       "      <td></td>\n",
       "      <td></td>\n",
       "      <td>(no genres listed)</td>\n",
       "    </tr>\n",
       "    <tr>\n",
       "      <th>62401</th>\n",
       "      <td>209103</td>\n",
       "      <td>Tsar Ivan the Terrible (1991)</td>\n",
       "      <td>(no genres listed)</td>\n",
       "      <td></td>\n",
       "      <td></td>\n",
       "      <td>(no genres listed)</td>\n",
       "    </tr>\n",
       "    <tr>\n",
       "      <th>62407</th>\n",
       "      <td>209133</td>\n",
       "      <td>The Riot and the Dance (2018)</td>\n",
       "      <td>(no genres listed)</td>\n",
       "      <td></td>\n",
       "      <td></td>\n",
       "      <td>(no genres listed)</td>\n",
       "    </tr>\n",
       "    <tr>\n",
       "      <th>62415</th>\n",
       "      <td>209151</td>\n",
       "      <td>Mao Zedong 1949 (2019)</td>\n",
       "      <td>(no genres listed)</td>\n",
       "      <td></td>\n",
       "      <td></td>\n",
       "      <td>(no genres listed)</td>\n",
       "    </tr>\n",
       "    <tr>\n",
       "      <th>62421</th>\n",
       "      <td>209169</td>\n",
       "      <td>A Girl Thing (2001)</td>\n",
       "      <td>(no genres listed)</td>\n",
       "      <td></td>\n",
       "      <td></td>\n",
       "      <td>(no genres listed)</td>\n",
       "    </tr>\n",
       "  </tbody>\n",
       "</table>\n",
       "<p>5062 rows × 6 columns</p>\n",
       "</div>"
      ],
      "text/plain": [
       "       movieId                                            title  \\\n",
       "15881    83773            Away with Words (San tiao ren) (1999)   \n",
       "16060    84768                                Glitterbug (1994)   \n",
       "16351    86493  Age of the Earth, The (A Idade da Terra) (1980)   \n",
       "16491    87061                          Trails (Veredas) (1978)   \n",
       "17404    91246                         Milky Way (Tejút) (2007)   \n",
       "...        ...                                              ...   \n",
       "62400   209101                      Hua yang de nian hua (2001)   \n",
       "62401   209103                    Tsar Ivan the Terrible (1991)   \n",
       "62407   209133                    The Riot and the Dance (2018)   \n",
       "62415   209151                           Mao Zedong 1949 (2019)   \n",
       "62421   209169                              A Girl Thing (2001)   \n",
       "\n",
       "                   genres                                                tag  \\\n",
       "15881  (no genres listed)  foreign language gay interest gay night club l...   \n",
       "16060  (no genres listed)                             experimental biography   \n",
       "16351  (no genres listed)  avant-garde bible christ allegory experimental...   \n",
       "16491  (no genres listed)  portugal trail based on a play João César Mont...   \n",
       "17404  (no genres listed)                                                      \n",
       "...                   ...                                                ...   \n",
       "62400  (no genres listed)                                                      \n",
       "62401  (no genres listed)                                                      \n",
       "62407  (no genres listed)                                                      \n",
       "62415  (no genres listed)                                                      \n",
       "62421  (no genres listed)                                                      \n",
       "\n",
       "      tags                                         Genre_Tags  \n",
       "15881       (no genres listed) foreign language gay intere...  \n",
       "16060              (no genres listed) experimental biography   \n",
       "16351       (no genres listed) avant-garde bible christ al...  \n",
       "16491       (no genres listed) portugal trail based on a p...  \n",
       "17404                                    (no genres listed)    \n",
       "...    ...                                                ...  \n",
       "62400                                    (no genres listed)    \n",
       "62401                                    (no genres listed)    \n",
       "62407                                    (no genres listed)    \n",
       "62415                                    (no genres listed)    \n",
       "62421                                    (no genres listed)    \n",
       "\n",
       "[5062 rows x 6 columns]"
      ]
     },
     "execution_count": 19,
     "metadata": {},
     "output_type": "execute_result"
    }
   ],
   "source": [
    "movies_df[movies_df['genres'] == '(no genres listed)']"
   ]
  },
  {
   "cell_type": "code",
   "execution_count": 20,
   "id": "19d6153d",
   "metadata": {
    "execution": {
     "iopub.execute_input": "2024-09-08T09:41:28.914361Z",
     "iopub.status.busy": "2024-09-08T09:41:28.913575Z",
     "iopub.status.idle": "2024-09-08T09:41:29.055809Z",
     "shell.execute_reply": "2024-09-08T09:41:29.054834Z"
    },
    "papermill": {
     "duration": 0.16612,
     "end_time": "2024-09-08T09:41:29.058295",
     "exception": false,
     "start_time": "2024-09-08T09:41:28.892175",
     "status": "completed"
    },
    "tags": []
   },
   "outputs": [],
   "source": [
    "# Define a set of valid English words\n",
    "valid_words = set(words.words())"
   ]
  },
  {
   "cell_type": "code",
   "execution_count": 21,
   "id": "9ce891aa",
   "metadata": {
    "execution": {
     "iopub.execute_input": "2024-09-08T09:41:29.103297Z",
     "iopub.status.busy": "2024-09-08T09:41:29.102511Z",
     "iopub.status.idle": "2024-09-08T09:41:29.109038Z",
     "shell.execute_reply": "2024-09-08T09:41:29.108150Z"
    },
    "papermill": {
     "duration": 0.030894,
     "end_time": "2024-09-08T09:41:29.111125",
     "exception": false,
     "start_time": "2024-09-08T09:41:29.080231",
     "status": "completed"
    },
    "tags": []
   },
   "outputs": [],
   "source": [
    "def clean_text(text):\n",
    "    # Preserve '(no genres listed) as (no_genres_listed)' \n",
    "    preserved_phrases = ['(no genres listed)']\n",
    "    for phrase in preserved_phrases:\n",
    "        text = text.replace(phrase, phrase.replace(' ', '_'))\n",
    "        \n",
    "    # Remove non-alphanumeric characters except digits, hyphens, and spaces\n",
    "    text = re.sub(r'[^a-zA-Z0-9\\s_\\-\\(\\)]', '', text)\n",
    "    \n",
    "    # Split the text into words\n",
    "    words_list = text.split()\n",
    "    \n",
    "    # Remove duplicates\n",
    "    unique_words = set(words_list)\n",
    "    \n",
    "    # Filter out non-sensical words (only apply to alphabetic words)\n",
    "    filtered_words = [word for word in unique_words if word.isdigit() or word in valid_words or '_' in word or '-' in word]\n",
    "    \n",
    "    return ' '.join(filtered_words)"
   ]
  },
  {
   "cell_type": "code",
   "execution_count": 22,
   "id": "ec455186",
   "metadata": {
    "execution": {
     "iopub.execute_input": "2024-09-08T09:41:29.152769Z",
     "iopub.status.busy": "2024-09-08T09:41:29.152489Z",
     "iopub.status.idle": "2024-09-08T09:41:30.366490Z",
     "shell.execute_reply": "2024-09-08T09:41:30.365730Z"
    },
    "papermill": {
     "duration": 1.237417,
     "end_time": "2024-09-08T09:41:30.368790",
     "exception": false,
     "start_time": "2024-09-08T09:41:29.131373",
     "status": "completed"
    },
    "tags": []
   },
   "outputs": [],
   "source": [
    "# Apply the function to remove duplicate words and gibberish\n",
    "movies_df['Genre_Tags'] = movies_df['Genre_Tags'].apply(clean_text)"
   ]
  },
  {
   "cell_type": "code",
   "execution_count": 23,
   "id": "438c1763",
   "metadata": {
    "execution": {
     "iopub.execute_input": "2024-09-08T09:41:30.411273Z",
     "iopub.status.busy": "2024-09-08T09:41:30.410997Z",
     "iopub.status.idle": "2024-09-08T09:41:30.416899Z",
     "shell.execute_reply": "2024-09-08T09:41:30.416056Z"
    },
    "papermill": {
     "duration": 0.028922,
     "end_time": "2024-09-08T09:41:30.418734",
     "exception": false,
     "start_time": "2024-09-08T09:41:30.389812",
     "status": "completed"
    },
    "tags": []
   },
   "outputs": [
    {
     "data": {
      "text/plain": [
       "'(no_genres_listed) gay interest club language foreign night'"
      ]
     },
     "execution_count": 23,
     "metadata": {},
     "output_type": "execute_result"
    }
   ],
   "source": [
    "movies_df.iloc[15881]['Genre_Tags']"
   ]
  },
  {
   "cell_type": "code",
   "execution_count": 24,
   "id": "f54fc835",
   "metadata": {
    "execution": {
     "iopub.execute_input": "2024-09-08T09:41:30.460582Z",
     "iopub.status.busy": "2024-09-08T09:41:30.459910Z",
     "iopub.status.idle": "2024-09-08T09:41:30.498702Z",
     "shell.execute_reply": "2024-09-08T09:41:30.497762Z"
    },
    "papermill": {
     "duration": 0.062008,
     "end_time": "2024-09-08T09:41:30.500918",
     "exception": false,
     "start_time": "2024-09-08T09:41:30.438910",
     "status": "completed"
    },
    "tags": []
   },
   "outputs": [
    {
     "data": {
      "text/plain": [
       "movieId       0\n",
       "title         0\n",
       "genres        0\n",
       "tag           0\n",
       "tags          0\n",
       "Genre_Tags    0\n",
       "dtype: int64"
      ]
     },
     "execution_count": 24,
     "metadata": {},
     "output_type": "execute_result"
    }
   ],
   "source": [
    "movies_df.isnull().sum()"
   ]
  },
  {
   "cell_type": "markdown",
   "id": "cfbeceec",
   "metadata": {
    "papermill": {
     "duration": 0.020487,
     "end_time": "2024-09-08T09:41:30.543868",
     "exception": false,
     "start_time": "2024-09-08T09:41:30.523381",
     "status": "completed"
    },
    "tags": []
   },
   "source": [
    "# 2. Content-Based Filtering"
   ]
  },
  {
   "cell_type": "code",
   "execution_count": 25,
   "id": "d4cce8c1",
   "metadata": {
    "execution": {
     "iopub.execute_input": "2024-09-08T09:41:30.586188Z",
     "iopub.status.busy": "2024-09-08T09:41:30.585876Z",
     "iopub.status.idle": "2024-09-08T09:41:30.590520Z",
     "shell.execute_reply": "2024-09-08T09:41:30.589572Z"
    },
    "papermill": {
     "duration": 0.028252,
     "end_time": "2024-09-08T09:41:30.592412",
     "exception": false,
     "start_time": "2024-09-08T09:41:30.564160",
     "status": "completed"
    },
    "tags": []
   },
   "outputs": [
    {
     "name": "stdout",
     "output_type": "stream",
     "text": [
      "Number of Movies in dataset: 62423\n",
      "Number of Ratings in dataset: 10000038\n"
     ]
    }
   ],
   "source": [
    "print (f'Number of Movies in dataset: {movies_df.shape[0]}')\n",
    "print (f'Number of Ratings in dataset: {train.shape[0]}')"
   ]
  },
  {
   "cell_type": "code",
   "execution_count": 26,
   "id": "09307e4d",
   "metadata": {
    "execution": {
     "iopub.execute_input": "2024-09-08T09:41:30.636221Z",
     "iopub.status.busy": "2024-09-08T09:41:30.635953Z",
     "iopub.status.idle": "2024-09-08T09:41:33.058229Z",
     "shell.execute_reply": "2024-09-08T09:41:33.057325Z"
    },
    "papermill": {
     "duration": 2.446768,
     "end_time": "2024-09-08T09:41:33.060485",
     "exception": false,
     "start_time": "2024-09-08T09:41:30.613717",
     "status": "completed"
    },
    "tags": []
   },
   "outputs": [
    {
     "name": "stdout",
     "output_type": "stream",
     "text": [
      "Average rating in dataset: 3.5333951730983424\n"
     ]
    },
    {
     "data": {
      "image/png": "[encoded data removed]",
      "text/plain": [
       "<Figure size 1000x500 with 1 Axes>"
      ]
     },
     "metadata": {},
     "output_type": "display_data"
    }
   ],
   "source": [
    "with sns.axes_style('white'):\n",
    "    g = sns.catplot(data=train, x=\"rating\", y=None, aspect=2.0, kind='count')\n",
    "    g.set_ylabels(\"Total number of ratings\")\n",
    "print (f'Average rating in dataset: {np.mean(train[\"rating\"])}')"
   ]
  },
  {
   "cell_type": "code",
   "execution_count": 27,
   "id": "69ad9f97",
   "metadata": {
    "execution": {
     "iopub.execute_input": "2024-09-08T09:41:33.107003Z",
     "iopub.status.busy": "2024-09-08T09:41:33.106661Z",
     "iopub.status.idle": "2024-09-08T09:41:33.110634Z",
     "shell.execute_reply": "2024-09-08T09:41:33.109677Z"
    },
    "papermill": {
     "duration": 0.029216,
     "end_time": "2024-09-08T09:41:33.112635",
     "exception": false,
     "start_time": "2024-09-08T09:41:33.083419",
     "status": "completed"
    },
    "tags": []
   },
   "outputs": [],
   "source": [
    "#tosave = movies_df[['movieId', 'title', 'Genre_Tags']]\n",
    "#tosave.to_csv('movies_clean.csv', index=False)"
   ]
  },
  {
   "cell_type": "code",
   "execution_count": 28,
   "id": "a6877817",
   "metadata": {
    "execution": {
     "iopub.execute_input": "2024-09-08T09:41:33.157803Z",
     "iopub.status.busy": "2024-09-08T09:41:33.157521Z",
     "iopub.status.idle": "2024-09-08T09:41:36.350281Z",
     "shell.execute_reply": "2024-09-08T09:41:36.349423Z"
    },
    "papermill": {
     "duration": 3.218061,
     "end_time": "2024-09-08T09:41:36.352631",
     "exception": false,
     "start_time": "2024-09-08T09:41:33.134570",
     "status": "completed"
    },
    "tags": []
   },
   "outputs": [],
   "source": [
    "tf = TfidfVectorizer(analyzer='word', ngram_range=(1,2),\n",
    "                     min_df=0.0, stop_words='english')\n",
    "\n",
    "# Produce a feature matrix, where each row corresponds to a movie,\n",
    "# with TF-IDF features as columns \n",
    "tf_gentag_matrix = tf.fit_transform(movies_df['Genre_Tags'])"
   ]
  },
  {
   "cell_type": "code",
   "execution_count": 29,
   "id": "2582e110",
   "metadata": {
    "execution": {
     "iopub.execute_input": "2024-09-08T09:41:36.396399Z",
     "iopub.status.busy": "2024-09-08T09:41:36.396118Z",
     "iopub.status.idle": "2024-09-08T09:41:36.400039Z",
     "shell.execute_reply": "2024-09-08T09:41:36.399251Z"
    },
    "papermill": {
     "duration": 0.027771,
     "end_time": "2024-09-08T09:41:36.402025",
     "exception": false,
     "start_time": "2024-09-08T09:41:36.374254",
     "status": "completed"
    },
    "tags": []
   },
   "outputs": [],
   "source": [
    "# compute similarity between each movie vector within our matrix\n",
    "#cosine_sim_gentag = cosine_similarity(tf_gentag_matrix, tf_gentag_matrix)\n",
    "#print (cosine_sim_gentag.shape)"
   ]
  },
  {
   "cell_type": "code",
   "execution_count": 30,
   "id": "9bea4a3d",
   "metadata": {
    "execution": {
     "iopub.execute_input": "2024-09-08T09:41:36.444988Z",
     "iopub.status.busy": "2024-09-08T09:41:36.444689Z",
     "iopub.status.idle": "2024-09-08T09:41:36.449994Z",
     "shell.execute_reply": "2024-09-08T09:41:36.449171Z"
    },
    "papermill": {
     "duration": 0.02918,
     "end_time": "2024-09-08T09:41:36.452045",
     "exception": false,
     "start_time": "2024-09-08T09:41:36.422865",
     "status": "completed"
    },
    "tags": []
   },
   "outputs": [
    {
     "data": {
      "text/plain": [
       "62423"
      ]
     },
     "execution_count": 30,
     "metadata": {},
     "output_type": "execute_result"
    }
   ],
   "source": [
    "tf_gentag_matrix.shape[0]"
   ]
  },
  {
   "cell_type": "markdown",
   "id": "a9a78d97",
   "metadata": {
    "papermill": {
     "duration": 0.021276,
     "end_time": "2024-09-08T09:41:36.494894",
     "exception": false,
     "start_time": "2024-09-08T09:41:36.473618",
     "status": "completed"
    },
    "tags": []
   },
   "source": [
    "I was unable to successfully run the cosine_similarity on the matrix due to limited memory allocation here on Kaggle, i kept getting kernel out of memory. So i ran it on my local pc, saved the similarity scores in a dataframe. However, i noticed the data was very large(29.0GB). Tried converting all values to a float16 and i achieved a significant decrease in memory usage(dataframe now 7.3GB). Unfortuanately, this is still a huge data so i went back to my data for some more spelunking to figure out how best to move forward.\n",
    "Looking at the test data which we are trying to build a model for, i noticed the majority of values here falls in the first 10 thousand movieids. So technically we dont need to use all the movies to build a similarity score to get a decent prediction. So we will try and figure out the amount of movies we need to get similarity scores for."
   ]
  },
  {
   "cell_type": "code",
   "execution_count": 31,
   "id": "3e486b10",
   "metadata": {
    "execution": {
     "iopub.execute_input": "2024-09-08T09:41:36.538333Z",
     "iopub.status.busy": "2024-09-08T09:41:36.538067Z",
     "iopub.status.idle": "2024-09-08T09:41:37.032573Z",
     "shell.execute_reply": "2024-09-08T09:41:37.031681Z"
    },
    "papermill": {
     "duration": 0.518822,
     "end_time": "2024-09-08T09:41:37.034854",
     "exception": false,
     "start_time": "2024-09-08T09:41:36.516032",
     "status": "completed"
    },
    "tags": []
   },
   "outputs": [
    {
     "data": {
      "image/png": "[encoded data removed]",
      "text/plain": [
       "<Figure size 640x480 with 1 Axes>"
      ]
     },
     "metadata": {},
     "output_type": "display_data"
    }
   ],
   "source": [
    "# distribution of movieIds in test data\n",
    "test['movieId'].plot(kind='hist', bins=40, edgecolor='black')\n",
    "plt.xlabel('movieId')\n",
    "plt.ylabel('Frequency')\n",
    "plt.title('Distribution of Values')\n",
    "plt.show()"
   ]
  },
  {
   "cell_type": "code",
   "execution_count": 32,
   "id": "28a4c5a2",
   "metadata": {
    "execution": {
     "iopub.execute_input": "2024-09-08T09:41:37.080037Z",
     "iopub.status.busy": "2024-09-08T09:41:37.079431Z",
     "iopub.status.idle": "2024-09-08T09:41:37.092732Z",
     "shell.execute_reply": "2024-09-08T09:41:37.091901Z"
    },
    "papermill": {
     "duration": 0.037853,
     "end_time": "2024-09-08T09:41:37.094656",
     "exception": false,
     "start_time": "2024-09-08T09:41:37.056803",
     "status": "completed"
    },
    "tags": []
   },
   "outputs": [
    {
     "data": {
      "text/html": [
       "<div>\n",
       "<style scoped>\n",
       "    .dataframe tbody tr th:only-of-type {\n",
       "        vertical-align: middle;\n",
       "    }\n",
       "\n",
       "    .dataframe tbody tr th {\n",
       "        vertical-align: top;\n",
       "    }\n",
       "\n",
       "    .dataframe thead th {\n",
       "        text-align: right;\n",
       "    }\n",
       "</style>\n",
       "<table border=\"1\" class=\"dataframe\">\n",
       "  <thead>\n",
       "    <tr style=\"text-align: right;\">\n",
       "      <th></th>\n",
       "      <th>movieId</th>\n",
       "      <th>title</th>\n",
       "      <th>genres</th>\n",
       "      <th>tag</th>\n",
       "      <th>tags</th>\n",
       "      <th>Genre_Tags</th>\n",
       "    </tr>\n",
       "  </thead>\n",
       "  <tbody>\n",
       "    <tr>\n",
       "      <th>0</th>\n",
       "      <td>1</td>\n",
       "      <td>Toy Story (1995)</td>\n",
       "      <td>Adventure Animation Children Comedy Fantasy</td>\n",
       "      <td>Owned imdb top 250 Pixar Pixar time travel chi...</td>\n",
       "      <td>toys computer animation pixar animation kids a...</td>\n",
       "      <td>ya life stereoscopic door day buddy acting cla...</td>\n",
       "    </tr>\n",
       "    <tr>\n",
       "      <th>1</th>\n",
       "      <td>2</td>\n",
       "      <td>Jumanji (1995)</td>\n",
       "      <td>Adventure Children Fantasy</td>\n",
       "      <td>Robin Williams time travel fantasy based on ch...</td>\n",
       "      <td>adventure children fantasy kids special effect...</td>\n",
       "      <td>big effects day world joe dynamic in jungle fi...</td>\n",
       "    </tr>\n",
       "    <tr>\n",
       "      <th>2</th>\n",
       "      <td>3</td>\n",
       "      <td>Grumpier Old Men (1995)</td>\n",
       "      <td>Comedy Romance</td>\n",
       "      <td>funny best friend duringcreditsstinger fishing...</td>\n",
       "      <td>sequel good sequel sequels comedy original gun...</td>\n",
       "      <td>original fever running wedding is movie best m...</td>\n",
       "    </tr>\n",
       "    <tr>\n",
       "      <th>3</th>\n",
       "      <td>4</td>\n",
       "      <td>Waiting to Exhale (1995)</td>\n",
       "      <td>Comedy Drama Romance</td>\n",
       "      <td>based on novel or book chick flick divorce int...</td>\n",
       "      <td>women chick flick divorce girlie movie romanti...</td>\n",
       "      <td>original infidelity feel drinking drama movie ...</td>\n",
       "    </tr>\n",
       "    <tr>\n",
       "      <th>4</th>\n",
       "      <td>5</td>\n",
       "      <td>Father of the Bride Part II (1995)</td>\n",
       "      <td>Comedy</td>\n",
       "      <td>aging baby confidence contraception daughter g...</td>\n",
       "      <td>sequel good sequel father daughter relationshi...</td>\n",
       "      <td>original feel fever wedding movie chase confid...</td>\n",
       "    </tr>\n",
       "    <tr>\n",
       "      <th>...</th>\n",
       "      <td>...</td>\n",
       "      <td>...</td>\n",
       "      <td>...</td>\n",
       "      <td>...</td>\n",
       "      <td>...</td>\n",
       "      <td>...</td>\n",
       "    </tr>\n",
       "    <tr>\n",
       "      <th>62418</th>\n",
       "      <td>209157</td>\n",
       "      <td>We (2018)</td>\n",
       "      <td>Drama</td>\n",
       "      <td></td>\n",
       "      <td></td>\n",
       "      <td>drama</td>\n",
       "    </tr>\n",
       "    <tr>\n",
       "      <th>62419</th>\n",
       "      <td>209159</td>\n",
       "      <td>Window of the Soul (2001)</td>\n",
       "      <td>Documentary</td>\n",
       "      <td></td>\n",
       "      <td></td>\n",
       "      <td>documentary</td>\n",
       "    </tr>\n",
       "    <tr>\n",
       "      <th>62420</th>\n",
       "      <td>209163</td>\n",
       "      <td>Bad Poems (2018)</td>\n",
       "      <td>Comedy Drama</td>\n",
       "      <td></td>\n",
       "      <td></td>\n",
       "      <td>comedy drama</td>\n",
       "    </tr>\n",
       "    <tr>\n",
       "      <th>62421</th>\n",
       "      <td>209169</td>\n",
       "      <td>A Girl Thing (2001)</td>\n",
       "      <td>(no genres listed)</td>\n",
       "      <td></td>\n",
       "      <td></td>\n",
       "      <td>(no_genres_listed)</td>\n",
       "    </tr>\n",
       "    <tr>\n",
       "      <th>62422</th>\n",
       "      <td>209171</td>\n",
       "      <td>Women of Devil's Island (1962)</td>\n",
       "      <td>Action Adventure Drama</td>\n",
       "      <td></td>\n",
       "      <td></td>\n",
       "      <td>action adventure drama</td>\n",
       "    </tr>\n",
       "  </tbody>\n",
       "</table>\n",
       "<p>62423 rows × 6 columns</p>\n",
       "</div>"
      ],
      "text/plain": [
       "       movieId                               title  \\\n",
       "0            1                    Toy Story (1995)   \n",
       "1            2                      Jumanji (1995)   \n",
       "2            3             Grumpier Old Men (1995)   \n",
       "3            4            Waiting to Exhale (1995)   \n",
       "4            5  Father of the Bride Part II (1995)   \n",
       "...        ...                                 ...   \n",
       "62418   209157                           We (2018)   \n",
       "62419   209159           Window of the Soul (2001)   \n",
       "62420   209163                    Bad Poems (2018)   \n",
       "62421   209169                 A Girl Thing (2001)   \n",
       "62422   209171      Women of Devil's Island (1962)   \n",
       "\n",
       "                                            genres  \\\n",
       "0      Adventure Animation Children Comedy Fantasy   \n",
       "1                       Adventure Children Fantasy   \n",
       "2                                   Comedy Romance   \n",
       "3                             Comedy Drama Romance   \n",
       "4                                           Comedy   \n",
       "...                                            ...   \n",
       "62418                                        Drama   \n",
       "62419                                  Documentary   \n",
       "62420                                 Comedy Drama   \n",
       "62421                           (no genres listed)   \n",
       "62422                       Action Adventure Drama   \n",
       "\n",
       "                                                     tag  \\\n",
       "0      Owned imdb top 250 Pixar Pixar time travel chi...   \n",
       "1      Robin Williams time travel fantasy based on ch...   \n",
       "2      funny best friend duringcreditsstinger fishing...   \n",
       "3      based on novel or book chick flick divorce int...   \n",
       "4      aging baby confidence contraception daughter g...   \n",
       "...                                                  ...   \n",
       "62418                                                      \n",
       "62419                                                      \n",
       "62420                                                      \n",
       "62421                                                      \n",
       "62422                                                      \n",
       "\n",
       "                                                    tags  \\\n",
       "0      toys computer animation pixar animation kids a...   \n",
       "1      adventure children fantasy kids special effect...   \n",
       "2      sequel good sequel sequels comedy original gun...   \n",
       "3      women chick flick divorce girlie movie romanti...   \n",
       "4      sequel good sequel father daughter relationshi...   \n",
       "...                                                  ...   \n",
       "62418                                                      \n",
       "62419                                                      \n",
       "62420                                                      \n",
       "62421                                                      \n",
       "62422                                                      \n",
       "\n",
       "                                              Genre_Tags  \n",
       "0      ya life stereoscopic door day buddy acting cla...  \n",
       "1      big effects day world joe dynamic in jungle fi...  \n",
       "2      original fever running wedding is movie best m...  \n",
       "3      original infidelity feel drinking drama movie ...  \n",
       "4      original feel fever wedding movie chase confid...  \n",
       "...                                                  ...  \n",
       "62418                                              drama  \n",
       "62419                                        documentary  \n",
       "62420                                       comedy drama  \n",
       "62421                                 (no_genres_listed)  \n",
       "62422                             action adventure drama  \n",
       "\n",
       "[62423 rows x 6 columns]"
      ]
     },
     "execution_count": 32,
     "metadata": {},
     "output_type": "execute_result"
    }
   ],
   "source": [
    "movies_df"
   ]
  },
  {
   "cell_type": "code",
   "execution_count": 33,
   "id": "79349671",
   "metadata": {
    "execution": {
     "iopub.execute_input": "2024-09-08T09:41:37.138954Z",
     "iopub.status.busy": "2024-09-08T09:41:37.138681Z",
     "iopub.status.idle": "2024-09-08T09:41:37.221496Z",
     "shell.execute_reply": "2024-09-08T09:41:37.220755Z"
    },
    "papermill": {
     "duration": 0.107339,
     "end_time": "2024-09-08T09:41:37.223592",
     "exception": false,
     "start_time": "2024-09-08T09:41:37.116253",
     "status": "completed"
    },
    "tags": []
   },
   "outputs": [],
   "source": [
    "# Get the movies that make up most of our test data set, these are the movies that\n",
    "# the cosine similarity is of utmost importance.\n",
    "common_movies = test['movieId'].value_counts().sort_values(ascending=False)[:10000]"
   ]
  },
  {
   "cell_type": "code",
   "execution_count": 34,
   "id": "976dda6c",
   "metadata": {
    "execution": {
     "iopub.execute_input": "2024-09-08T09:41:37.269606Z",
     "iopub.status.busy": "2024-09-08T09:41:37.269337Z",
     "iopub.status.idle": "2024-09-08T09:41:37.275114Z",
     "shell.execute_reply": "2024-09-08T09:41:37.274308Z"
    },
    "papermill": {
     "duration": 0.03071,
     "end_time": "2024-09-08T09:41:37.277042",
     "exception": false,
     "start_time": "2024-09-08T09:41:37.246332",
     "status": "completed"
    },
    "tags": []
   },
   "outputs": [
    {
     "data": {
      "text/plain": [
       "97.6663288679503"
      ]
     },
     "execution_count": 34,
     "metadata": {},
     "output_type": "execute_result"
    }
   ],
   "source": [
    "percent_total = (common_movies.sum()) / len(test) * 100\n",
    "percent_total"
   ]
  },
  {
   "cell_type": "markdown",
   "id": "59d3e2cc",
   "metadata": {
    "papermill": {
     "duration": 0.021796,
     "end_time": "2024-09-08T09:41:37.321004",
     "exception": false,
     "start_time": "2024-09-08T09:41:37.299208",
     "status": "completed"
    },
    "tags": []
   },
   "source": [
    "We can see that about 10,000 of our movies is what make up the majority of our test data. So we need to get the movieIds of these movies and use for cosine similarity analysis."
   ]
  },
  {
   "cell_type": "code",
   "execution_count": 35,
   "id": "61713138",
   "metadata": {
    "execution": {
     "iopub.execute_input": "2024-09-08T09:41:37.366230Z",
     "iopub.status.busy": "2024-09-08T09:41:37.365956Z",
     "iopub.status.idle": "2024-09-08T09:41:37.370768Z",
     "shell.execute_reply": "2024-09-08T09:41:37.369967Z"
    },
    "papermill": {
     "duration": 0.029651,
     "end_time": "2024-09-08T09:41:37.372708",
     "exception": false,
     "start_time": "2024-09-08T09:41:37.343057",
     "status": "completed"
    },
    "tags": []
   },
   "outputs": [],
   "source": [
    "# Movie Ids of the most common movies in test dataset\n",
    "# common_movies.index correspond to the movieIds of each movie\n",
    "rel_movies_ind = common_movies.index.tolist()"
   ]
  },
  {
   "cell_type": "code",
   "execution_count": 36,
   "id": "a7d639eb",
   "metadata": {
    "execution": {
     "iopub.execute_input": "2024-09-08T09:41:37.417077Z",
     "iopub.status.busy": "2024-09-08T09:41:37.416803Z",
     "iopub.status.idle": "2024-09-08T09:41:37.427348Z",
     "shell.execute_reply": "2024-09-08T09:41:37.426639Z"
    },
    "papermill": {
     "duration": 0.034862,
     "end_time": "2024-09-08T09:41:37.429186",
     "exception": false,
     "start_time": "2024-09-08T09:41:37.394324",
     "status": "completed"
    },
    "tags": []
   },
   "outputs": [],
   "source": [
    "# Then Filter the movies_df DataFrame based on the list of movieId (rel_movies_ind)\n",
    "filtered_df = movies_df[movies_df['movieId'].isin(rel_movies_ind)]\n",
    "# Retrieve the indices of the filtered rows\n",
    "indices = filtered_df.index.tolist()"
   ]
  },
  {
   "cell_type": "code",
   "execution_count": 37,
   "id": "bc960ed5",
   "metadata": {
    "execution": {
     "iopub.execute_input": "2024-09-08T09:41:37.473585Z",
     "iopub.status.busy": "2024-09-08T09:41:37.473345Z",
     "iopub.status.idle": "2024-09-08T09:41:37.481879Z",
     "shell.execute_reply": "2024-09-08T09:41:37.481170Z"
    },
    "papermill": {
     "duration": 0.032951,
     "end_time": "2024-09-08T09:41:37.483909",
     "exception": false,
     "start_time": "2024-09-08T09:41:37.450958",
     "status": "completed"
    },
    "tags": []
   },
   "outputs": [],
   "source": [
    "selected_tf_gentag_matrix = tf_gentag_matrix[indices]"
   ]
  },
  {
   "cell_type": "code",
   "execution_count": 38,
   "id": "5b7a1e0d",
   "metadata": {
    "execution": {
     "iopub.execute_input": "2024-09-08T09:41:37.530423Z",
     "iopub.status.busy": "2024-09-08T09:41:37.530184Z",
     "iopub.status.idle": "2024-09-08T09:41:37.535408Z",
     "shell.execute_reply": "2024-09-08T09:41:37.534584Z"
    },
    "papermill": {
     "duration": 0.029628,
     "end_time": "2024-09-08T09:41:37.537227",
     "exception": false,
     "start_time": "2024-09-08T09:41:37.507599",
     "status": "completed"
    },
    "tags": []
   },
   "outputs": [
    {
     "data": {
      "text/plain": [
       "10000"
      ]
     },
     "execution_count": 38,
     "metadata": {},
     "output_type": "execute_result"
    }
   ],
   "source": [
    "selected_tf_gentag_matrix.shape[0]"
   ]
  },
  {
   "cell_type": "markdown",
   "id": "e1209c92",
   "metadata": {
    "papermill": {
     "duration": 0.02175,
     "end_time": "2024-09-08T09:41:37.581047",
     "exception": false,
     "start_time": "2024-09-08T09:41:37.559297",
     "status": "completed"
    },
    "tags": []
   },
   "source": [
    "Now we compute the similarity scores of the selected movie"
   ]
  },
  {
   "cell_type": "code",
   "execution_count": 39,
   "id": "6e7a5b26",
   "metadata": {
    "execution": {
     "iopub.execute_input": "2024-09-08T09:41:37.626109Z",
     "iopub.status.busy": "2024-09-08T09:41:37.625738Z",
     "iopub.status.idle": "2024-09-08T09:41:44.844565Z",
     "shell.execute_reply": "2024-09-08T09:41:44.843790Z"
    },
    "papermill": {
     "duration": 7.243617,
     "end_time": "2024-09-08T09:41:44.846825",
     "exception": false,
     "start_time": "2024-09-08T09:41:37.603208",
     "status": "completed"
    },
    "tags": []
   },
   "outputs": [],
   "source": [
    "def incremental_cosine_similarity(tfidf_matrix, chunk_size=1000):\n",
    "    n_samples = tfidf_matrix.shape[0]\n",
    "    sim_matrix = np.zeros((n_samples, n_samples))\n",
    "\n",
    "    for start in range(0, n_samples, chunk_size):\n",
    "        end = min(start + chunk_size, n_samples)\n",
    "        sim_matrix[start:end] = cosine_similarity(tfidf_matrix[start:end], tfidf_matrix)\n",
    "\n",
    "    return sim_matrix\n",
    "\n",
    "# compute similarity for subset of the matrix at a time\n",
    "cosine_sim_gentag = incremental_cosine_similarity(selected_tf_gentag_matrix)"
   ]
  },
  {
   "cell_type": "code",
   "execution_count": 40,
   "id": "980dd9e8",
   "metadata": {
    "execution": {
     "iopub.execute_input": "2024-09-08T09:41:44.892592Z",
     "iopub.status.busy": "2024-09-08T09:41:44.892311Z",
     "iopub.status.idle": "2024-09-08T09:41:44.896801Z",
     "shell.execute_reply": "2024-09-08T09:41:44.895963Z"
    },
    "papermill": {
     "duration": 0.02975,
     "end_time": "2024-09-08T09:41:44.898964",
     "exception": false,
     "start_time": "2024-09-08T09:41:44.869214",
     "status": "completed"
    },
    "tags": []
   },
   "outputs": [
    {
     "name": "stdout",
     "output_type": "stream",
     "text": [
      "(10000, 10000)\n"
     ]
    }
   ],
   "source": [
    "print (cosine_sim_gentag.shape)"
   ]
  },
  {
   "cell_type": "code",
   "execution_count": 41,
   "id": "0a232e27",
   "metadata": {
    "execution": {
     "iopub.execute_input": "2024-09-08T09:41:44.943904Z",
     "iopub.status.busy": "2024-09-08T09:41:44.943557Z",
     "iopub.status.idle": "2024-09-08T09:41:44.957096Z",
     "shell.execute_reply": "2024-09-08T09:41:44.956243Z"
    },
    "papermill": {
     "duration": 0.038308,
     "end_time": "2024-09-08T09:41:44.959100",
     "exception": false,
     "start_time": "2024-09-08T09:41:44.920792",
     "status": "completed"
    },
    "tags": []
   },
   "outputs": [],
   "source": [
    "# Convert to DataFrame for easier viewing\n",
    "cosine_sim_df = pd.DataFrame(cosine_sim_gentag, index=indices, columns=indices)"
   ]
  },
  {
   "cell_type": "code",
   "execution_count": 42,
   "id": "95695063",
   "metadata": {
    "execution": {
     "iopub.execute_input": "2024-09-08T09:41:45.004170Z",
     "iopub.status.busy": "2024-09-08T09:41:45.003692Z",
     "iopub.status.idle": "2024-09-08T09:41:45.036754Z",
     "shell.execute_reply": "2024-09-08T09:41:45.035972Z"
    },
    "papermill": {
     "duration": 0.057889,
     "end_time": "2024-09-08T09:41:45.038726",
     "exception": false,
     "start_time": "2024-09-08T09:41:44.980837",
     "status": "completed"
    },
    "tags": []
   },
   "outputs": [
    {
     "data": {
      "text/html": [
       "<div>\n",
       "<style scoped>\n",
       "    .dataframe tbody tr th:only-of-type {\n",
       "        vertical-align: middle;\n",
       "    }\n",
       "\n",
       "    .dataframe tbody tr th {\n",
       "        vertical-align: top;\n",
       "    }\n",
       "\n",
       "    .dataframe thead th {\n",
       "        text-align: right;\n",
       "    }\n",
       "</style>\n",
       "<table border=\"1\" class=\"dataframe\">\n",
       "  <thead>\n",
       "    <tr style=\"text-align: right;\">\n",
       "      <th></th>\n",
       "      <th>0</th>\n",
       "      <th>1</th>\n",
       "      <th>2</th>\n",
       "      <th>3</th>\n",
       "      <th>4</th>\n",
       "      <th>5</th>\n",
       "      <th>6</th>\n",
       "      <th>7</th>\n",
       "      <th>8</th>\n",
       "      <th>9</th>\n",
       "      <th>...</th>\n",
       "      <th>59963</th>\n",
       "      <th>60072</th>\n",
       "      <th>60090</th>\n",
       "      <th>60095</th>\n",
       "      <th>60400</th>\n",
       "      <th>60529</th>\n",
       "      <th>60869</th>\n",
       "      <th>60937</th>\n",
       "      <th>61005</th>\n",
       "      <th>61253</th>\n",
       "    </tr>\n",
       "  </thead>\n",
       "  <tbody>\n",
       "    <tr>\n",
       "      <th>0</th>\n",
       "      <td>1.000000</td>\n",
       "      <td>0.059725</td>\n",
       "      <td>0.013946</td>\n",
       "      <td>0.016721</td>\n",
       "      <td>0.024605</td>\n",
       "      <td>0.012432</td>\n",
       "      <td>0.011333</td>\n",
       "      <td>0.043611</td>\n",
       "      <td>0.013605</td>\n",
       "      <td>0.030837</td>\n",
       "      <td>...</td>\n",
       "      <td>0.014061</td>\n",
       "      <td>0.026332</td>\n",
       "      <td>0.012187</td>\n",
       "      <td>0.010059</td>\n",
       "      <td>0.017578</td>\n",
       "      <td>0.008674</td>\n",
       "      <td>0.019516</td>\n",
       "      <td>0.025578</td>\n",
       "      <td>0.011791</td>\n",
       "      <td>0.010386</td>\n",
       "    </tr>\n",
       "    <tr>\n",
       "      <th>1</th>\n",
       "      <td>0.059725</td>\n",
       "      <td>1.000000</td>\n",
       "      <td>0.024390</td>\n",
       "      <td>0.037670</td>\n",
       "      <td>0.043323</td>\n",
       "      <td>0.007141</td>\n",
       "      <td>0.031491</td>\n",
       "      <td>0.067554</td>\n",
       "      <td>0.046949</td>\n",
       "      <td>0.049636</td>\n",
       "      <td>...</td>\n",
       "      <td>0.023922</td>\n",
       "      <td>0.044751</td>\n",
       "      <td>0.015496</td>\n",
       "      <td>0.011796</td>\n",
       "      <td>0.032103</td>\n",
       "      <td>0.029689</td>\n",
       "      <td>0.013298</td>\n",
       "      <td>0.034708</td>\n",
       "      <td>0.018001</td>\n",
       "      <td>0.039689</td>\n",
       "    </tr>\n",
       "    <tr>\n",
       "      <th>2</th>\n",
       "      <td>0.013946</td>\n",
       "      <td>0.024390</td>\n",
       "      <td>1.000000</td>\n",
       "      <td>0.038276</td>\n",
       "      <td>0.080275</td>\n",
       "      <td>0.007938</td>\n",
       "      <td>0.051058</td>\n",
       "      <td>0.027393</td>\n",
       "      <td>0.025955</td>\n",
       "      <td>0.022094</td>\n",
       "      <td>...</td>\n",
       "      <td>0.030665</td>\n",
       "      <td>0.055026</td>\n",
       "      <td>0.010882</td>\n",
       "      <td>0.015807</td>\n",
       "      <td>0.040411</td>\n",
       "      <td>0.038618</td>\n",
       "      <td>0.009831</td>\n",
       "      <td>0.039019</td>\n",
       "      <td>0.012650</td>\n",
       "      <td>0.042133</td>\n",
       "    </tr>\n",
       "    <tr>\n",
       "      <th>3</th>\n",
       "      <td>0.016721</td>\n",
       "      <td>0.037670</td>\n",
       "      <td>0.038276</td>\n",
       "      <td>1.000000</td>\n",
       "      <td>0.091671</td>\n",
       "      <td>0.019008</td>\n",
       "      <td>0.092505</td>\n",
       "      <td>0.115949</td>\n",
       "      <td>0.061397</td>\n",
       "      <td>0.010618</td>\n",
       "      <td>...</td>\n",
       "      <td>0.017017</td>\n",
       "      <td>0.065951</td>\n",
       "      <td>0.013847</td>\n",
       "      <td>0.007306</td>\n",
       "      <td>0.036378</td>\n",
       "      <td>0.021123</td>\n",
       "      <td>0.016718</td>\n",
       "      <td>0.036285</td>\n",
       "      <td>0.014776</td>\n",
       "      <td>0.041831</td>\n",
       "    </tr>\n",
       "    <tr>\n",
       "      <th>4</th>\n",
       "      <td>0.024605</td>\n",
       "      <td>0.043323</td>\n",
       "      <td>0.080275</td>\n",
       "      <td>0.091671</td>\n",
       "      <td>1.000000</td>\n",
       "      <td>0.010481</td>\n",
       "      <td>0.055764</td>\n",
       "      <td>0.048695</td>\n",
       "      <td>0.033170</td>\n",
       "      <td>0.022118</td>\n",
       "      <td>...</td>\n",
       "      <td>0.019030</td>\n",
       "      <td>0.025064</td>\n",
       "      <td>0.013314</td>\n",
       "      <td>0.025246</td>\n",
       "      <td>0.049075</td>\n",
       "      <td>0.018430</td>\n",
       "      <td>0.014162</td>\n",
       "      <td>0.015575</td>\n",
       "      <td>0.011203</td>\n",
       "      <td>0.027457</td>\n",
       "    </tr>\n",
       "    <tr>\n",
       "      <th>...</th>\n",
       "      <td>...</td>\n",
       "      <td>...</td>\n",
       "      <td>...</td>\n",
       "      <td>...</td>\n",
       "      <td>...</td>\n",
       "      <td>...</td>\n",
       "      <td>...</td>\n",
       "      <td>...</td>\n",
       "      <td>...</td>\n",
       "      <td>...</td>\n",
       "      <td>...</td>\n",
       "      <td>...</td>\n",
       "      <td>...</td>\n",
       "      <td>...</td>\n",
       "      <td>...</td>\n",
       "      <td>...</td>\n",
       "      <td>...</td>\n",
       "      <td>...</td>\n",
       "      <td>...</td>\n",
       "      <td>...</td>\n",
       "      <td>...</td>\n",
       "    </tr>\n",
       "    <tr>\n",
       "      <th>60529</th>\n",
       "      <td>0.008674</td>\n",
       "      <td>0.029689</td>\n",
       "      <td>0.038618</td>\n",
       "      <td>0.021123</td>\n",
       "      <td>0.018430</td>\n",
       "      <td>0.028460</td>\n",
       "      <td>0.045358</td>\n",
       "      <td>0.035176</td>\n",
       "      <td>0.051852</td>\n",
       "      <td>0.047618</td>\n",
       "      <td>...</td>\n",
       "      <td>0.055948</td>\n",
       "      <td>0.092562</td>\n",
       "      <td>0.030392</td>\n",
       "      <td>0.030205</td>\n",
       "      <td>0.067042</td>\n",
       "      <td>1.000000</td>\n",
       "      <td>0.047146</td>\n",
       "      <td>0.072428</td>\n",
       "      <td>0.032239</td>\n",
       "      <td>0.058624</td>\n",
       "    </tr>\n",
       "    <tr>\n",
       "      <th>60869</th>\n",
       "      <td>0.019516</td>\n",
       "      <td>0.013298</td>\n",
       "      <td>0.009831</td>\n",
       "      <td>0.016718</td>\n",
       "      <td>0.014162</td>\n",
       "      <td>0.025024</td>\n",
       "      <td>0.010567</td>\n",
       "      <td>0.018014</td>\n",
       "      <td>0.011076</td>\n",
       "      <td>0.009724</td>\n",
       "      <td>...</td>\n",
       "      <td>0.051122</td>\n",
       "      <td>0.075817</td>\n",
       "      <td>0.039712</td>\n",
       "      <td>0.025034</td>\n",
       "      <td>0.042252</td>\n",
       "      <td>0.047146</td>\n",
       "      <td>1.000000</td>\n",
       "      <td>0.028503</td>\n",
       "      <td>0.039416</td>\n",
       "      <td>0.054988</td>\n",
       "    </tr>\n",
       "    <tr>\n",
       "      <th>60937</th>\n",
       "      <td>0.025578</td>\n",
       "      <td>0.034708</td>\n",
       "      <td>0.039019</td>\n",
       "      <td>0.036285</td>\n",
       "      <td>0.015575</td>\n",
       "      <td>0.016197</td>\n",
       "      <td>0.042084</td>\n",
       "      <td>0.037081</td>\n",
       "      <td>0.022538</td>\n",
       "      <td>0.021246</td>\n",
       "      <td>...</td>\n",
       "      <td>0.033720</td>\n",
       "      <td>0.100469</td>\n",
       "      <td>0.034714</td>\n",
       "      <td>0.025013</td>\n",
       "      <td>0.033440</td>\n",
       "      <td>0.072428</td>\n",
       "      <td>0.028503</td>\n",
       "      <td>1.000000</td>\n",
       "      <td>0.029100</td>\n",
       "      <td>0.040698</td>\n",
       "    </tr>\n",
       "    <tr>\n",
       "      <th>61005</th>\n",
       "      <td>0.011791</td>\n",
       "      <td>0.018001</td>\n",
       "      <td>0.012650</td>\n",
       "      <td>0.014776</td>\n",
       "      <td>0.011203</td>\n",
       "      <td>0.041871</td>\n",
       "      <td>0.011144</td>\n",
       "      <td>0.014634</td>\n",
       "      <td>0.021251</td>\n",
       "      <td>0.007905</td>\n",
       "      <td>...</td>\n",
       "      <td>0.047127</td>\n",
       "      <td>0.046602</td>\n",
       "      <td>0.090153</td>\n",
       "      <td>0.065168</td>\n",
       "      <td>0.025990</td>\n",
       "      <td>0.032239</td>\n",
       "      <td>0.039416</td>\n",
       "      <td>0.029100</td>\n",
       "      <td>1.000000</td>\n",
       "      <td>0.068747</td>\n",
       "    </tr>\n",
       "    <tr>\n",
       "      <th>61253</th>\n",
       "      <td>0.010386</td>\n",
       "      <td>0.039689</td>\n",
       "      <td>0.042133</td>\n",
       "      <td>0.041831</td>\n",
       "      <td>0.027457</td>\n",
       "      <td>0.024724</td>\n",
       "      <td>0.031234</td>\n",
       "      <td>0.071500</td>\n",
       "      <td>0.032668</td>\n",
       "      <td>0.018193</td>\n",
       "      <td>...</td>\n",
       "      <td>0.059225</td>\n",
       "      <td>0.084101</td>\n",
       "      <td>0.034585</td>\n",
       "      <td>0.047431</td>\n",
       "      <td>0.033769</td>\n",
       "      <td>0.058624</td>\n",
       "      <td>0.054988</td>\n",
       "      <td>0.040698</td>\n",
       "      <td>0.068747</td>\n",
       "      <td>1.000000</td>\n",
       "    </tr>\n",
       "  </tbody>\n",
       "</table>\n",
       "<p>10000 rows × 10000 columns</p>\n",
       "</div>"
      ],
      "text/plain": [
       "          0         1         2         3         4         5         6      \\\n",
       "0      1.000000  0.059725  0.013946  0.016721  0.024605  0.012432  0.011333   \n",
       "1      0.059725  1.000000  0.024390  0.037670  0.043323  0.007141  0.031491   \n",
       "2      0.013946  0.024390  1.000000  0.038276  0.080275  0.007938  0.051058   \n",
       "3      0.016721  0.037670  0.038276  1.000000  0.091671  0.019008  0.092505   \n",
       "4      0.024605  0.043323  0.080275  0.091671  1.000000  0.010481  0.055764   \n",
       "...         ...       ...       ...       ...       ...       ...       ...   \n",
       "60529  0.008674  0.029689  0.038618  0.021123  0.018430  0.028460  0.045358   \n",
       "60869  0.019516  0.013298  0.009831  0.016718  0.014162  0.025024  0.010567   \n",
       "60937  0.025578  0.034708  0.039019  0.036285  0.015575  0.016197  0.042084   \n",
       "61005  0.011791  0.018001  0.012650  0.014776  0.011203  0.041871  0.011144   \n",
       "61253  0.010386  0.039689  0.042133  0.041831  0.027457  0.024724  0.031234   \n",
       "\n",
       "          7         8         9      ...     59963     60072     60090  \\\n",
       "0      0.043611  0.013605  0.030837  ...  0.014061  0.026332  0.012187   \n",
       "1      0.067554  0.046949  0.049636  ...  0.023922  0.044751  0.015496   \n",
       "2      0.027393  0.025955  0.022094  ...  0.030665  0.055026  0.010882   \n",
       "3      0.115949  0.061397  0.010618  ...  0.017017  0.065951  0.013847   \n",
       "4      0.048695  0.033170  0.022118  ...  0.019030  0.025064  0.013314   \n",
       "...         ...       ...       ...  ...       ...       ...       ...   \n",
       "60529  0.035176  0.051852  0.047618  ...  0.055948  0.092562  0.030392   \n",
       "60869  0.018014  0.011076  0.009724  ...  0.051122  0.075817  0.039712   \n",
       "60937  0.037081  0.022538  0.021246  ...  0.033720  0.100469  0.034714   \n",
       "61005  0.014634  0.021251  0.007905  ...  0.047127  0.046602  0.090153   \n",
       "61253  0.071500  0.032668  0.018193  ...  0.059225  0.084101  0.034585   \n",
       "\n",
       "          60095     60400     60529     60869     60937     61005     61253  \n",
       "0      0.010059  0.017578  0.008674  0.019516  0.025578  0.011791  0.010386  \n",
       "1      0.011796  0.032103  0.029689  0.013298  0.034708  0.018001  0.039689  \n",
       "2      0.015807  0.040411  0.038618  0.009831  0.039019  0.012650  0.042133  \n",
       "3      0.007306  0.036378  0.021123  0.016718  0.036285  0.014776  0.041831  \n",
       "4      0.025246  0.049075  0.018430  0.014162  0.015575  0.011203  0.027457  \n",
       "...         ...       ...       ...       ...       ...       ...       ...  \n",
       "60529  0.030205  0.067042  1.000000  0.047146  0.072428  0.032239  0.058624  \n",
       "60869  0.025034  0.042252  0.047146  1.000000  0.028503  0.039416  0.054988  \n",
       "60937  0.025013  0.033440  0.072428  0.028503  1.000000  0.029100  0.040698  \n",
       "61005  0.065168  0.025990  0.032239  0.039416  0.029100  1.000000  0.068747  \n",
       "61253  0.047431  0.033769  0.058624  0.054988  0.040698  0.068747  1.000000  \n",
       "\n",
       "[10000 rows x 10000 columns]"
      ]
     },
     "execution_count": 42,
     "metadata": {},
     "output_type": "execute_result"
    }
   ],
   "source": [
    "cosine_sim_df"
   ]
  },
  {
   "cell_type": "code",
   "execution_count": 43,
   "id": "4957df5d",
   "metadata": {
    "execution": {
     "iopub.execute_input": "2024-09-08T09:41:45.084985Z",
     "iopub.status.busy": "2024-09-08T09:41:45.084708Z",
     "iopub.status.idle": "2024-09-08T09:41:45.090725Z",
     "shell.execute_reply": "2024-09-08T09:41:45.089874Z"
    },
    "papermill": {
     "duration": 0.031601,
     "end_time": "2024-09-08T09:41:45.092697",
     "exception": false,
     "start_time": "2024-09-08T09:41:45.061096",
     "status": "completed"
    },
    "tags": []
   },
   "outputs": [],
   "source": [
    "# Convenient indexes to map between movie id and indexes of \n",
    "# the movies dataframe\n",
    "movie_ids = movies_df['movieId']\n",
    "m_indices = pd.Series(movies_df.index, index=movies_df['movieId']).drop_duplicates()"
   ]
  },
  {
   "cell_type": "code",
   "execution_count": 44,
   "id": "97edc349",
   "metadata": {
    "execution": {
     "iopub.execute_input": "2024-09-08T09:41:45.139232Z",
     "iopub.status.busy": "2024-09-08T09:41:45.138548Z",
     "iopub.status.idle": "2024-09-08T09:41:45.149779Z",
     "shell.execute_reply": "2024-09-08T09:41:45.148963Z"
    },
    "papermill": {
     "duration": 0.036521,
     "end_time": "2024-09-08T09:41:45.151628",
     "exception": false,
     "start_time": "2024-09-08T09:41:45.115107",
     "status": "completed"
    },
    "tags": []
   },
   "outputs": [],
   "source": [
    "def content_generate_rating_estimate(user_id, movie_id, rating_df, k=20, threshold=0.0):\n",
    "    # Convert the movie_id to a numeric index for our \n",
    "    # similarity matrix\n",
    "    m_idx = m_indices[movie_id]\n",
    "    # check if reference movie has sim score\n",
    "    if m_idx in indices:\n",
    "        neighbors = [] # <-- Stores our collection of similarity values \n",
    "\n",
    "        # Gather the similarity ratings between each movie the user has rated\n",
    "        # if index in cosine_sim_df and the reference movie\n",
    "        for index, row in rating_df[rating_df['userId']==user_id].iterrows():\n",
    "            m_idx1 = m_indices[row['movieId']]\n",
    "            if m_idx1 in indices:\n",
    "                sim = cosine_sim_df.loc[m_idx, m_idx1]\n",
    "                neighbors.append((sim, row['rating']))\n",
    "        # Select the top-N values from our collection\n",
    "        k_neighbors = heapq.nlargest(k, neighbors, key=lambda t: t[0])\n",
    "\n",
    "        # Compute the weighted average using similarity scores and \n",
    "        # user item ratings. \n",
    "        simTotal, weightedSum = 0, 0\n",
    "        for (simScore, rating) in k_neighbors:\n",
    "            # Ensure that similarity scores are above a given threshold\n",
    "            if (simScore > threshold):\n",
    "                simTotal += simScore\n",
    "                weightedSum += simScore * rating\n",
    "        try:\n",
    "            predictedRating = weightedSum / simTotal\n",
    "        except ZeroDivisionError:\n",
    "            # Cold-start problem - No ratings given by user. \n",
    "            # Fallback to average rating of the movie if available,\n",
    "            # then average user rating, and finally global average rating.\n",
    "            movie_ratings = rating_df[rating_df['movieId'] == movie_id]['rating']\n",
    "            if not movie_ratings.empty:\n",
    "                predictedRating = np.mean(movie_ratings)\n",
    "            else:\n",
    "                user_ratings = rating_df[rating_df['userId'] == user_id]['rating']\n",
    "                if not user_ratings.empty:\n",
    "                    predictedRating = np.mean(user_ratings)\n",
    "                else:\n",
    "                    predictedRating = np.mean(rating_df['rating'])\n",
    "        \n",
    "        return predictedRating\n",
    "    else:\n",
    "        # Fallback strategy if the movie_id is not in the cosine similarity matrix\n",
    "        # 1. Movie's average rating if available\n",
    "        movie_ratings = rating_df[rating_df['movieId'] == movie_id]['rating']\n",
    "        if not movie_ratings.empty:\n",
    "            return np.mean(movie_ratings)\n",
    "        \n",
    "        # 2. User's average rating\n",
    "        user_ratings = rating_df[rating_df['userId'] == user_id]['rating']\n",
    "        if not user_ratings.empty:\n",
    "            return np.mean(user_ratings)\n",
    "\n",
    "        # 3. Global average rating if the user has not rated any movies and movie has no ratings\n",
    "        return np.mean(rating_df['rating'])"
   ]
  },
  {
   "cell_type": "markdown",
   "id": "af929f44",
   "metadata": {
    "papermill": {
     "duration": 0.022091,
     "end_time": "2024-09-08T09:41:45.196162",
     "exception": false,
     "start_time": "2024-09-08T09:41:45.174071",
     "status": "completed"
    },
    "tags": []
   },
   "source": [
    "## Test Algorithm on individual data points"
   ]
  },
  {
   "cell_type": "code",
   "execution_count": 45,
   "id": "432c7ea1",
   "metadata": {
    "execution": {
     "iopub.execute_input": "2024-09-08T09:41:45.241763Z",
     "iopub.status.busy": "2024-09-08T09:41:45.241468Z",
     "iopub.status.idle": "2024-09-08T09:41:45.258287Z",
     "shell.execute_reply": "2024-09-08T09:41:45.257444Z"
    },
    "papermill": {
     "duration": 0.041899,
     "end_time": "2024-09-08T09:41:45.260261",
     "exception": false,
     "start_time": "2024-09-08T09:41:45.218362",
     "status": "completed"
    },
    "tags": []
   },
   "outputs": [
    {
     "data": {
      "text/html": [
       "<div>\n",
       "<style scoped>\n",
       "    .dataframe tbody tr th:only-of-type {\n",
       "        vertical-align: middle;\n",
       "    }\n",
       "\n",
       "    .dataframe tbody tr th {\n",
       "        vertical-align: top;\n",
       "    }\n",
       "\n",
       "    .dataframe thead th {\n",
       "        text-align: right;\n",
       "    }\n",
       "</style>\n",
       "<table border=\"1\" class=\"dataframe\">\n",
       "  <thead>\n",
       "    <tr style=\"text-align: right;\">\n",
       "      <th></th>\n",
       "      <th>userId</th>\n",
       "      <th>movieId</th>\n",
       "      <th>rating</th>\n",
       "    </tr>\n",
       "  </thead>\n",
       "  <tbody>\n",
       "    <tr>\n",
       "      <th>811315</th>\n",
       "      <td>2501</td>\n",
       "      <td>78499</td>\n",
       "      <td>4.5</td>\n",
       "    </tr>\n",
       "    <tr>\n",
       "      <th>823124</th>\n",
       "      <td>2501</td>\n",
       "      <td>164179</td>\n",
       "      <td>4.0</td>\n",
       "    </tr>\n",
       "    <tr>\n",
       "      <th>1365517</th>\n",
       "      <td>2501</td>\n",
       "      <td>95167</td>\n",
       "      <td>4.5</td>\n",
       "    </tr>\n",
       "    <tr>\n",
       "      <th>1461242</th>\n",
       "      <td>2501</td>\n",
       "      <td>122922</td>\n",
       "      <td>4.5</td>\n",
       "    </tr>\n",
       "    <tr>\n",
       "      <th>1484801</th>\n",
       "      <td>2501</td>\n",
       "      <td>68954</td>\n",
       "      <td>4.5</td>\n",
       "    </tr>\n",
       "    <tr>\n",
       "      <th>1687002</th>\n",
       "      <td>2501</td>\n",
       "      <td>1036</td>\n",
       "      <td>4.5</td>\n",
       "    </tr>\n",
       "    <tr>\n",
       "      <th>2006978</th>\n",
       "      <td>2501</td>\n",
       "      <td>3703</td>\n",
       "      <td>3.5</td>\n",
       "    </tr>\n",
       "  </tbody>\n",
       "</table>\n",
       "</div>"
      ],
      "text/plain": [
       "         userId  movieId  rating\n",
       "811315     2501    78499     4.5\n",
       "823124     2501   164179     4.0\n",
       "1365517    2501    95167     4.5\n",
       "1461242    2501   122922     4.5\n",
       "1484801    2501    68954     4.5\n",
       "1687002    2501     1036     4.5\n",
       "2006978    2501     3703     3.5"
      ]
     },
     "execution_count": 45,
     "metadata": {},
     "output_type": "execute_result"
    }
   ],
   "source": [
    "# Subset of ratings from user 2501\n",
    "train[train['userId'] == 2501][3:10]"
   ]
  },
  {
   "cell_type": "code",
   "execution_count": 46,
   "id": "d9cb2aec",
   "metadata": {
    "execution": {
     "iopub.execute_input": "2024-09-08T09:41:45.307118Z",
     "iopub.status.busy": "2024-09-08T09:41:45.306837Z",
     "iopub.status.idle": "2024-09-08T09:41:45.322558Z",
     "shell.execute_reply": "2024-09-08T09:41:45.321730Z"
    },
    "papermill": {
     "duration": 0.041475,
     "end_time": "2024-09-08T09:41:45.324374",
     "exception": false,
     "start_time": "2024-09-08T09:41:45.282899",
     "status": "completed"
    },
    "tags": []
   },
   "outputs": [
    {
     "data": {
      "text/html": [
       "<div>\n",
       "<style scoped>\n",
       "    .dataframe tbody tr th:only-of-type {\n",
       "        vertical-align: middle;\n",
       "    }\n",
       "\n",
       "    .dataframe tbody tr th {\n",
       "        vertical-align: top;\n",
       "    }\n",
       "\n",
       "    .dataframe thead th {\n",
       "        text-align: right;\n",
       "    }\n",
       "</style>\n",
       "<table border=\"1\" class=\"dataframe\">\n",
       "  <thead>\n",
       "    <tr style=\"text-align: right;\">\n",
       "      <th></th>\n",
       "      <th>userId</th>\n",
       "      <th>movieId</th>\n",
       "      <th>rating</th>\n",
       "    </tr>\n",
       "  </thead>\n",
       "  <tbody>\n",
       "    <tr>\n",
       "      <th>2925021</th>\n",
       "      <td>32253</td>\n",
       "      <td>177925</td>\n",
       "      <td>4.5</td>\n",
       "    </tr>\n",
       "  </tbody>\n",
       "</table>\n",
       "</div>"
      ],
      "text/plain": [
       "         userId  movieId  rating\n",
       "2925021   32253   177925     4.5"
      ]
     },
     "execution_count": 46,
     "metadata": {},
     "output_type": "execute_result"
    }
   ],
   "source": [
    "train[train['movieId'] == 177925]"
   ]
  },
  {
   "cell_type": "code",
   "execution_count": 47,
   "id": "2fb43d9b",
   "metadata": {
    "execution": {
     "iopub.execute_input": "2024-09-08T09:41:45.375368Z",
     "iopub.status.busy": "2024-09-08T09:41:45.375100Z",
     "iopub.status.idle": "2024-09-08T09:41:45.409843Z",
     "shell.execute_reply": "2024-09-08T09:41:45.408912Z"
    },
    "papermill": {
     "duration": 0.061393,
     "end_time": "2024-09-08T09:41:45.412084",
     "exception": false,
     "start_time": "2024-09-08T09:41:45.350691",
     "status": "completed"
    },
    "tags": []
   },
   "outputs": [
    {
     "name": "stdout",
     "output_type": "stream",
     "text": [
      "Id - 177925\n",
      "---\n",
      "Actual rating: \t\t 4.5\n",
      "Predicted rating: \t 4.5\n"
     ]
    }
   ],
   "source": [
    "movie_id = 177925\n",
    "actual_rating = train[(train['userId'] == 32253) & (train['movieId'] == movie_id)]['rating'].values[0]\n",
    "pred_rating = content_generate_rating_estimate(user_id=32253, movie_id=movie_id, rating_df=train)\n",
    "print (f\"Id - {movie_id}\")\n",
    "print (\"---\")\n",
    "print (f\"Actual rating: \\t\\t {actual_rating}\")\n",
    "print (f\"Predicted rating: \\t {pred_rating}\")"
   ]
  },
  {
   "cell_type": "markdown",
   "id": "dc1d996a",
   "metadata": {
    "papermill": {
     "duration": 0.023155,
     "end_time": "2024-09-08T09:41:45.460316",
     "exception": false,
     "start_time": "2024-09-08T09:41:45.437161",
     "status": "completed"
    },
    "tags": []
   },
   "source": [
    "## Evaluate Algorithm on entire train data and calculate RMSE"
   ]
  },
  {
   "cell_type": "code",
   "execution_count": 48,
   "id": "2462ea27",
   "metadata": {
    "execution": {
     "iopub.execute_input": "2024-09-08T09:41:45.516006Z",
     "iopub.status.busy": "2024-09-08T09:41:45.514861Z",
     "iopub.status.idle": "2024-09-08T09:41:45.520454Z",
     "shell.execute_reply": "2024-09-08T09:41:45.519247Z"
    },
    "papermill": {
     "duration": 0.039072,
     "end_time": "2024-09-08T09:41:45.522487",
     "exception": false,
     "start_time": "2024-09-08T09:41:45.483415",
     "status": "completed"
    },
    "tags": []
   },
   "outputs": [],
   "source": [
    "# Apply prediction function to train data\n",
    "#train['predicted_rating'] = train.apply(\n",
    "    #lambda row: content_generate_rating_estimate(row['userId'], row['movieId'], train), axis=1)\n",
    "\n",
    "# Calculate RMSE\n",
    "#rmse = np.sqrt(mean_squared_error(train['rating'], train['predicted_rating']))\n",
    "#print(f'RMSE: {rmse}')"
   ]
  },
  {
   "cell_type": "code",
   "execution_count": 49,
   "id": "ccc9c8b4",
   "metadata": {
    "execution": {
     "iopub.execute_input": "2024-09-08T09:41:45.579494Z",
     "iopub.status.busy": "2024-09-08T09:41:45.579209Z",
     "iopub.status.idle": "2024-09-08T09:41:45.582721Z",
     "shell.execute_reply": "2024-09-08T09:41:45.581881Z"
    },
    "papermill": {
     "duration": 0.031619,
     "end_time": "2024-09-08T09:41:45.584590",
     "exception": false,
     "start_time": "2024-09-08T09:41:45.552971",
     "status": "completed"
    },
    "tags": []
   },
   "outputs": [],
   "source": [
    "# Apply prediction function to test data columns 'userId' and 'movieId'\n",
    "#test['rating'] = test.progress_apply(\n",
    "    #lambda row: content_generate_rating_estimate(row['userId'], row['movieId'], train), axis=1)"
   ]
  },
  {
   "cell_type": "markdown",
   "id": "817411a0",
   "metadata": {
    "papermill": {
     "duration": 0.023066,
     "end_time": "2024-09-08T09:41:45.630574",
     "exception": false,
     "start_time": "2024-09-08T09:41:45.607508",
     "status": "completed"
    },
    "tags": []
   },
   "source": [
    "Tried applying the function to the train data to calculate rmse but it was gooing to take forever. and since we dont really need to generate prediction for the train data as it is just to evaluate model. I wont be applying the function directly as it take a very long while to apply the function to over 10M rows. I will be using parallel processing below. Also I will be using just 100k rows of the train data to calculate prediction accuracy to save time and get a quick overview of the algorithm performance."
   ]
  },
  {
   "cell_type": "code",
   "execution_count": 50,
   "id": "0c69188d",
   "metadata": {
    "execution": {
     "iopub.execute_input": "2024-09-08T09:41:45.678674Z",
     "iopub.status.busy": "2024-09-08T09:41:45.678396Z",
     "iopub.status.idle": "2024-09-08T09:41:45.682714Z",
     "shell.execute_reply": "2024-09-08T09:41:45.681900Z"
    },
    "papermill": {
     "duration": 0.031349,
     "end_time": "2024-09-08T09:41:45.684640",
     "exception": false,
     "start_time": "2024-09-08T09:41:45.653291",
     "status": "completed"
    },
    "tags": []
   },
   "outputs": [],
   "source": [
    "sub_train = train.iloc[:100000]"
   ]
  },
  {
   "cell_type": "code",
   "execution_count": 51,
   "id": "63790e79",
   "metadata": {
    "execution": {
     "iopub.execute_input": "2024-09-08T09:41:45.732880Z",
     "iopub.status.busy": "2024-09-08T09:41:45.732286Z",
     "iopub.status.idle": "2024-09-08T11:10:30.172153Z",
     "shell.execute_reply": "2024-09-08T11:10:30.171255Z"
    },
    "papermill": {
     "duration": 5324.466518,
     "end_time": "2024-09-08T11:10:30.174677",
     "exception": false,
     "start_time": "2024-09-08T09:41:45.708159",
     "status": "completed"
    },
    "tags": []
   },
   "outputs": [
    {
     "name": "stderr",
     "output_type": "stream",
     "text": [
      "100%|██████████| 100000/100000 [1:28:30<00:00, 18.83it/s]\n"
     ]
    }
   ],
   "source": [
    "def apply_content_generate_rating_estimate(row, rating_df):\n",
    "    return content_generate_rating_estimate(row['userId'], row['movieId'], rating_df)\n",
    "\n",
    "# Convert the DataFrame to a list of rows for parallel processing\n",
    "rows = [row for _, row in sub_train.iterrows()]\n",
    "\n",
    "# Parallel processing using joblib\n",
    "num_cores = -1  # Use all available cores\n",
    "results = Parallel(n_jobs=num_cores, backend=\"multiprocessing\")(\n",
    "    delayed(apply_content_generate_rating_estimate)(row, train) for row in tqdm(rows)\n",
    ")\n",
    "\n",
    "# Assign results back to the DataFrame\n",
    "sub_train['prediction'] = results\n",
    "sub_train['prediction'] = sub_train['prediction'].round(1).abs()"
   ]
  },
  {
   "cell_type": "code",
   "execution_count": 52,
   "id": "b09276d1",
   "metadata": {
    "execution": {
     "iopub.execute_input": "2024-09-08T11:10:33.297795Z",
     "iopub.status.busy": "2024-09-08T11:10:33.297173Z",
     "iopub.status.idle": "2024-09-08T11:10:33.306616Z",
     "shell.execute_reply": "2024-09-08T11:10:33.305705Z"
    },
    "papermill": {
     "duration": 1.614228,
     "end_time": "2024-09-08T11:10:33.308654",
     "exception": false,
     "start_time": "2024-09-08T11:10:31.694426",
     "status": "completed"
    },
    "tags": []
   },
   "outputs": [
    {
     "name": "stdout",
     "output_type": "stream",
     "text": [
      "R-Squared: 0.83\n"
     ]
    }
   ],
   "source": [
    "# Calculate prediction coefficient of determination\n",
    "from sklearn.metrics import r2_score\n",
    "y_true = sub_train['rating']  # Ground truth (true rating)\n",
    "y_pred = sub_train['prediction']  # Predicted rating\n",
    "# Calculate R2_score\n",
    "r2 = r2_score(y_true, y_pred)\n",
    "\n",
    "print(f\"R-Squared: {r2:.2f}\")"
   ]
  },
  {
   "cell_type": "markdown",
   "id": "0ab7c676",
   "metadata": {
    "papermill": {
     "duration": 1.541415,
     "end_time": "2024-09-08T11:10:36.439456",
     "exception": false,
     "start_time": "2024-09-08T11:10:34.898041",
     "status": "completed"
    },
    "tags": []
   },
   "source": [
    "# 3. Collaborative Filtering Approach"
   ]
  },
  {
   "cell_type": "code",
   "execution_count": 53,
   "id": "a92f6bdc",
   "metadata": {
    "execution": {
     "iopub.execute_input": "2024-09-08T11:10:39.635975Z",
     "iopub.status.busy": "2024-09-08T11:10:39.635581Z",
     "iopub.status.idle": "2024-09-08T11:10:53.188040Z",
     "shell.execute_reply": "2024-09-08T11:10:53.187055Z"
    },
    "papermill": {
     "duration": 15.151327,
     "end_time": "2024-09-08T11:10:53.190494",
     "exception": false,
     "start_time": "2024-09-08T11:10:38.039167",
     "status": "completed"
    },
    "tags": []
   },
   "outputs": [],
   "source": [
    "# Prepare data for Surprise\n",
    "reader = Reader(rating_scale=(0.5, 5.0))\n",
    "data = Dataset.load_from_df(train[['userId', 'movieId', 'rating']], reader)"
   ]
  },
  {
   "cell_type": "code",
   "execution_count": 54,
   "id": "2b517c1d",
   "metadata": {
    "execution": {
     "iopub.execute_input": "2024-09-08T11:10:56.351140Z",
     "iopub.status.busy": "2024-09-08T11:10:56.350249Z",
     "iopub.status.idle": "2024-09-08T11:11:15.390203Z",
     "shell.execute_reply": "2024-09-08T11:11:15.389195Z"
    },
    "papermill": {
     "duration": 20.695077,
     "end_time": "2024-09-08T11:11:15.392437",
     "exception": false,
     "start_time": "2024-09-08T11:10:54.697360",
     "status": "completed"
    },
    "tags": []
   },
   "outputs": [],
   "source": [
    "# Split train data into train and test\n",
    "trainset, testset = train_test_split(data, test_size=0.2, random_state=42)"
   ]
  },
  {
   "cell_type": "code",
   "execution_count": 55,
   "id": "828d3d87",
   "metadata": {
    "execution": {
     "iopub.execute_input": "2024-09-08T11:11:18.499792Z",
     "iopub.status.busy": "2024-09-08T11:11:18.498849Z",
     "iopub.status.idle": "2024-09-08T11:13:41.181393Z",
     "shell.execute_reply": "2024-09-08T11:13:41.180495Z"
    },
    "papermill": {
     "duration": 145.845528,
     "end_time": "2024-09-08T11:13:42.767550",
     "exception": false,
     "start_time": "2024-09-08T11:11:16.922022",
     "status": "completed"
    },
    "tags": []
   },
   "outputs": [
    {
     "data": {
      "text/plain": [
       "<surprise.prediction_algorithms.matrix_factorization.SVD at 0x78f16e55fe50>"
      ]
     },
     "execution_count": 55,
     "metadata": {},
     "output_type": "execute_result"
    }
   ],
   "source": [
    "# Train SVD model\n",
    "svd = SVD()\n",
    "# train algorithm on trainset\n",
    "svd.fit(trainset)"
   ]
  },
  {
   "cell_type": "code",
   "execution_count": 56,
   "id": "93a585b6",
   "metadata": {
    "execution": {
     "iopub.execute_input": "2024-09-08T11:13:45.880408Z",
     "iopub.status.busy": "2024-09-08T11:13:45.880084Z",
     "iopub.status.idle": "2024-09-08T11:14:10.924615Z",
     "shell.execute_reply": "2024-09-08T11:14:10.923641Z"
    },
    "papermill": {
     "duration": 26.650512,
     "end_time": "2024-09-08T11:14:10.926742",
     "exception": false,
     "start_time": "2024-09-08T11:13:44.276230",
     "status": "completed"
    },
    "tags": []
   },
   "outputs": [
    {
     "name": "stdout",
     "output_type": "stream",
     "text": [
      "RMSE: 0.8339\n"
     ]
    }
   ],
   "source": [
    "# Make predictions on testset\n",
    "predictions = svd.test(testset)\n",
    "\n",
    "# Calculate and print RMSE\n",
    "rmse = accuracy.rmse(predictions)"
   ]
  },
  {
   "cell_type": "code",
   "execution_count": 57,
   "id": "5b3851b6",
   "metadata": {
    "execution": {
     "iopub.execute_input": "2024-09-08T11:14:14.021330Z",
     "iopub.status.busy": "2024-09-08T11:14:14.020925Z",
     "iopub.status.idle": "2024-09-08T11:14:14.025475Z",
     "shell.execute_reply": "2024-09-08T11:14:14.024656Z"
    },
    "papermill": {
     "duration": 1.520816,
     "end_time": "2024-09-08T11:14:14.027295",
     "exception": false,
     "start_time": "2024-09-08T11:14:12.506479",
     "status": "completed"
    },
    "tags": []
   },
   "outputs": [],
   "source": [
    "# function to get rating predictions for the test data\n",
    "def collaborative_rating(row, algo):\n",
    "    return algo.predict(row['userId'], row['movieId']).est"
   ]
  },
  {
   "cell_type": "code",
   "execution_count": 58,
   "id": "f1bbdbe6",
   "metadata": {
    "execution": {
     "iopub.execute_input": "2024-09-08T11:14:17.222673Z",
     "iopub.status.busy": "2024-09-08T11:14:17.222324Z",
     "iopub.status.idle": "2024-09-08T11:16:23.427427Z",
     "shell.execute_reply": "2024-09-08T11:16:23.426454Z"
    },
    "papermill": {
     "duration": 129.329206,
     "end_time": "2024-09-08T11:16:24.968367",
     "exception": false,
     "start_time": "2024-09-08T11:14:15.639161",
     "status": "completed"
    },
    "tags": []
   },
   "outputs": [
    {
     "data": {
      "text/html": [
       "<div>\n",
       "<style scoped>\n",
       "    .dataframe tbody tr th:only-of-type {\n",
       "        vertical-align: middle;\n",
       "    }\n",
       "\n",
       "    .dataframe tbody tr th {\n",
       "        vertical-align: top;\n",
       "    }\n",
       "\n",
       "    .dataframe thead th {\n",
       "        text-align: right;\n",
       "    }\n",
       "</style>\n",
       "<table border=\"1\" class=\"dataframe\">\n",
       "  <thead>\n",
       "    <tr style=\"text-align: right;\">\n",
       "      <th></th>\n",
       "      <th>userId</th>\n",
       "      <th>movieId</th>\n",
       "      <th>rating1</th>\n",
       "    </tr>\n",
       "  </thead>\n",
       "  <tbody>\n",
       "    <tr>\n",
       "      <th>0</th>\n",
       "      <td>1</td>\n",
       "      <td>2011</td>\n",
       "      <td>3.267083</td>\n",
       "    </tr>\n",
       "    <tr>\n",
       "      <th>1</th>\n",
       "      <td>1</td>\n",
       "      <td>4144</td>\n",
       "      <td>4.250089</td>\n",
       "    </tr>\n",
       "    <tr>\n",
       "      <th>2</th>\n",
       "      <td>1</td>\n",
       "      <td>5767</td>\n",
       "      <td>3.650474</td>\n",
       "    </tr>\n",
       "    <tr>\n",
       "      <th>3</th>\n",
       "      <td>1</td>\n",
       "      <td>6711</td>\n",
       "      <td>4.064521</td>\n",
       "    </tr>\n",
       "    <tr>\n",
       "      <th>4</th>\n",
       "      <td>1</td>\n",
       "      <td>7318</td>\n",
       "      <td>3.301733</td>\n",
       "    </tr>\n",
       "  </tbody>\n",
       "</table>\n",
       "</div>"
      ],
      "text/plain": [
       "   userId  movieId   rating1\n",
       "0       1     2011  3.267083\n",
       "1       1     4144  4.250089\n",
       "2       1     5767  3.650474\n",
       "3       1     6711  4.064521\n",
       "4       1     7318  3.301733"
      ]
     },
     "execution_count": 58,
     "metadata": {},
     "output_type": "execute_result"
    }
   ],
   "source": [
    "# Apply prediction function to test data columns 'userId' and 'movieId'\n",
    "test['rating1'] = test.apply(\n",
    "    lambda row: collaborative_rating(row, svd), axis=1)\n",
    "test.head()"
   ]
  },
  {
   "cell_type": "code",
   "execution_count": 59,
   "id": "1c32f28e",
   "metadata": {
    "execution": {
     "iopub.execute_input": "2024-09-08T11:16:28.088958Z",
     "iopub.status.busy": "2024-09-08T11:16:28.088614Z",
     "iopub.status.idle": "2024-09-08T11:16:35.846260Z",
     "shell.execute_reply": "2024-09-08T11:16:35.845370Z"
    },
    "papermill": {
     "duration": 9.268427,
     "end_time": "2024-09-08T11:16:35.848547",
     "exception": false,
     "start_time": "2024-09-08T11:16:26.580120",
     "status": "completed"
    },
    "tags": []
   },
   "outputs": [
    {
     "data": {
      "text/html": [
       "<div>\n",
       "<style scoped>\n",
       "    .dataframe tbody tr th:only-of-type {\n",
       "        vertical-align: middle;\n",
       "    }\n",
       "\n",
       "    .dataframe tbody tr th {\n",
       "        vertical-align: top;\n",
       "    }\n",
       "\n",
       "    .dataframe thead th {\n",
       "        text-align: right;\n",
       "    }\n",
       "</style>\n",
       "<table border=\"1\" class=\"dataframe\">\n",
       "  <thead>\n",
       "    <tr style=\"text-align: right;\">\n",
       "      <th></th>\n",
       "      <th>Id</th>\n",
       "      <th>rating</th>\n",
       "    </tr>\n",
       "  </thead>\n",
       "  <tbody>\n",
       "    <tr>\n",
       "      <th>0</th>\n",
       "      <td>1</td>\n",
       "      <td>3.3</td>\n",
       "    </tr>\n",
       "    <tr>\n",
       "      <th>1</th>\n",
       "      <td>1</td>\n",
       "      <td>4.3</td>\n",
       "    </tr>\n",
       "    <tr>\n",
       "      <th>2</th>\n",
       "      <td>1</td>\n",
       "      <td>3.7</td>\n",
       "    </tr>\n",
       "    <tr>\n",
       "      <th>3</th>\n",
       "      <td>1</td>\n",
       "      <td>4.1</td>\n",
       "    </tr>\n",
       "    <tr>\n",
       "      <th>4</th>\n",
       "      <td>1</td>\n",
       "      <td>3.3</td>\n",
       "    </tr>\n",
       "  </tbody>\n",
       "</table>\n",
       "</div>"
      ],
      "text/plain": [
       "   Id  rating\n",
       "0   1     3.3\n",
       "1   1     4.3\n",
       "2   1     3.7\n",
       "3   1     4.1\n",
       "4   1     3.3"
      ]
     },
     "execution_count": 59,
     "metadata": {},
     "output_type": "execute_result"
    }
   ],
   "source": [
    "subm_df1 = test[['userId', 'rating1']]\n",
    "subm_df1['rating1'] = subm_df1['rating1'].round(1).abs()\n",
    "subm_df1.columns = ['Id', 'rating']\n",
    "subm_df1.to_csv('sample_submission1.csv', index=False)\n",
    "subm_df1.head()"
   ]
  },
  {
   "cell_type": "markdown",
   "id": "e6030e4d",
   "metadata": {
    "papermill": {
     "duration": 1.603216,
     "end_time": "2024-09-08T11:16:39.062341",
     "exception": false,
     "start_time": "2024-09-08T11:16:37.459125",
     "status": "completed"
    },
    "tags": []
   },
   "source": [
    "## Retrain model on full train data"
   ]
  },
  {
   "cell_type": "code",
   "execution_count": 60,
   "id": "46bf5ed2",
   "metadata": {
    "execution": {
     "iopub.execute_input": "2024-09-08T11:16:42.220269Z",
     "iopub.status.busy": "2024-09-08T11:16:42.219416Z",
     "iopub.status.idle": "2024-09-08T11:19:52.639778Z",
     "shell.execute_reply": "2024-09-08T11:19:52.638920Z"
    },
    "papermill": {
     "duration": 193.580757,
     "end_time": "2024-09-08T11:19:54.229533",
     "exception": false,
     "start_time": "2024-09-08T11:16:40.648776",
     "status": "completed"
    },
    "tags": []
   },
   "outputs": [
    {
     "data": {
      "text/plain": [
       "<surprise.prediction_algorithms.matrix_factorization.SVD at 0x78f16e55fe50>"
      ]
     },
     "execution_count": 60,
     "metadata": {},
     "output_type": "execute_result"
    }
   ],
   "source": [
    "# Retrain algorithm on entire train data\n",
    "train_full = data.build_full_trainset()\n",
    "svd.fit(train_full)"
   ]
  },
  {
   "cell_type": "code",
   "execution_count": 61,
   "id": "d6424a50",
   "metadata": {
    "execution": {
     "iopub.execute_input": "2024-09-08T11:19:57.343330Z",
     "iopub.status.busy": "2024-09-08T11:19:57.342556Z",
     "iopub.status.idle": "2024-09-08T11:22:05.739058Z",
     "shell.execute_reply": "2024-09-08T11:22:05.738134Z"
    },
    "papermill": {
     "duration": 131.578568,
     "end_time": "2024-09-08T11:22:07.345639",
     "exception": false,
     "start_time": "2024-09-08T11:19:55.767071",
     "status": "completed"
    },
    "tags": []
   },
   "outputs": [
    {
     "data": {
      "text/html": [
       "<div>\n",
       "<style scoped>\n",
       "    .dataframe tbody tr th:only-of-type {\n",
       "        vertical-align: middle;\n",
       "    }\n",
       "\n",
       "    .dataframe tbody tr th {\n",
       "        vertical-align: top;\n",
       "    }\n",
       "\n",
       "    .dataframe thead th {\n",
       "        text-align: right;\n",
       "    }\n",
       "</style>\n",
       "<table border=\"1\" class=\"dataframe\">\n",
       "  <thead>\n",
       "    <tr style=\"text-align: right;\">\n",
       "      <th></th>\n",
       "      <th>userId</th>\n",
       "      <th>movieId</th>\n",
       "      <th>rating1</th>\n",
       "      <th>rating2</th>\n",
       "    </tr>\n",
       "  </thead>\n",
       "  <tbody>\n",
       "    <tr>\n",
       "      <th>0</th>\n",
       "      <td>1</td>\n",
       "      <td>2011</td>\n",
       "      <td>3.267083</td>\n",
       "      <td>3.473409</td>\n",
       "    </tr>\n",
       "    <tr>\n",
       "      <th>1</th>\n",
       "      <td>1</td>\n",
       "      <td>4144</td>\n",
       "      <td>4.250089</td>\n",
       "      <td>4.286627</td>\n",
       "    </tr>\n",
       "    <tr>\n",
       "      <th>2</th>\n",
       "      <td>1</td>\n",
       "      <td>5767</td>\n",
       "      <td>3.650474</td>\n",
       "      <td>3.392728</td>\n",
       "    </tr>\n",
       "    <tr>\n",
       "      <th>3</th>\n",
       "      <td>1</td>\n",
       "      <td>6711</td>\n",
       "      <td>4.064521</td>\n",
       "      <td>3.723041</td>\n",
       "    </tr>\n",
       "    <tr>\n",
       "      <th>4</th>\n",
       "      <td>1</td>\n",
       "      <td>7318</td>\n",
       "      <td>3.301733</td>\n",
       "      <td>3.385579</td>\n",
       "    </tr>\n",
       "  </tbody>\n",
       "</table>\n",
       "</div>"
      ],
      "text/plain": [
       "   userId  movieId   rating1   rating2\n",
       "0       1     2011  3.267083  3.473409\n",
       "1       1     4144  4.250089  4.286627\n",
       "2       1     5767  3.650474  3.392728\n",
       "3       1     6711  4.064521  3.723041\n",
       "4       1     7318  3.301733  3.385579"
      ]
     },
     "execution_count": 61,
     "metadata": {},
     "output_type": "execute_result"
    }
   ],
   "source": [
    "# Apply prediction function to test data columns 'userId' and 'movieId'\n",
    "test['rating2'] = test.apply(\n",
    "    lambda row: collaborative_rating(row, svd), axis=1)\n",
    "test.head()"
   ]
  },
  {
   "cell_type": "code",
   "execution_count": 62,
   "id": "c8211489",
   "metadata": {
    "execution": {
     "iopub.execute_input": "2024-09-08T11:22:10.440637Z",
     "iopub.status.busy": "2024-09-08T11:22:10.440294Z",
     "iopub.status.idle": "2024-09-08T11:22:18.155025Z",
     "shell.execute_reply": "2024-09-08T11:22:18.154052Z"
    },
    "papermill": {
     "duration": 9.300986,
     "end_time": "2024-09-08T11:22:18.157018",
     "exception": false,
     "start_time": "2024-09-08T11:22:08.856032",
     "status": "completed"
    },
    "tags": []
   },
   "outputs": [
    {
     "data": {
      "text/html": [
       "<div>\n",
       "<style scoped>\n",
       "    .dataframe tbody tr th:only-of-type {\n",
       "        vertical-align: middle;\n",
       "    }\n",
       "\n",
       "    .dataframe tbody tr th {\n",
       "        vertical-align: top;\n",
       "    }\n",
       "\n",
       "    .dataframe thead th {\n",
       "        text-align: right;\n",
       "    }\n",
       "</style>\n",
       "<table border=\"1\" class=\"dataframe\">\n",
       "  <thead>\n",
       "    <tr style=\"text-align: right;\">\n",
       "      <th></th>\n",
       "      <th>Id</th>\n",
       "      <th>rating</th>\n",
       "    </tr>\n",
       "  </thead>\n",
       "  <tbody>\n",
       "    <tr>\n",
       "      <th>0</th>\n",
       "      <td>1</td>\n",
       "      <td>3.5</td>\n",
       "    </tr>\n",
       "    <tr>\n",
       "      <th>1</th>\n",
       "      <td>1</td>\n",
       "      <td>4.3</td>\n",
       "    </tr>\n",
       "    <tr>\n",
       "      <th>2</th>\n",
       "      <td>1</td>\n",
       "      <td>3.4</td>\n",
       "    </tr>\n",
       "    <tr>\n",
       "      <th>3</th>\n",
       "      <td>1</td>\n",
       "      <td>3.7</td>\n",
       "    </tr>\n",
       "    <tr>\n",
       "      <th>4</th>\n",
       "      <td>1</td>\n",
       "      <td>3.4</td>\n",
       "    </tr>\n",
       "  </tbody>\n",
       "</table>\n",
       "</div>"
      ],
      "text/plain": [
       "   Id  rating\n",
       "0   1     3.5\n",
       "1   1     4.3\n",
       "2   1     3.4\n",
       "3   1     3.7\n",
       "4   1     3.4"
      ]
     },
     "execution_count": 62,
     "metadata": {},
     "output_type": "execute_result"
    }
   ],
   "source": [
    "subm_df2 = test[['userId', 'rating2']]\n",
    "subm_df2['rating2'] = subm_df2['rating2'].round(1).abs()\n",
    "subm_df2.columns = ['Id', 'rating']\n",
    "subm_df2.to_csv('sample_submission2.csv', index=False)\n",
    "subm_df2.head()"
   ]
  },
  {
   "cell_type": "markdown",
   "id": "8e3ec254",
   "metadata": {
    "papermill": {
     "duration": 1.586149,
     "end_time": "2024-09-08T11:22:21.325195",
     "exception": false,
     "start_time": "2024-09-08T11:22:19.739046",
     "status": "completed"
    },
    "tags": []
   },
   "source": [
    "# 4. Hybrid Approach"
   ]
  },
  {
   "cell_type": "code",
   "execution_count": 63,
   "id": "ca008ead",
   "metadata": {
    "execution": {
     "iopub.execute_input": "2024-09-08T11:22:24.417567Z",
     "iopub.status.busy": "2024-09-08T11:22:24.417225Z",
     "iopub.status.idle": "2024-09-08T11:22:24.422338Z",
     "shell.execute_reply": "2024-09-08T11:22:24.421462Z"
    },
    "papermill": {
     "duration": 1.59223,
     "end_time": "2024-09-08T11:22:24.424129",
     "exception": false,
     "start_time": "2024-09-08T11:22:22.831899",
     "status": "completed"
    },
    "tags": []
   },
   "outputs": [],
   "source": [
    "# We could use this function below\n",
    "# But we wont, as it is a waste of resources to call the algorithm again\n",
    "# Function to combine the two models above\n",
    "def hybrid_predict(row, algo, rating_df):\n",
    "    collab_pred = collaborative_rating(row, algo).est\n",
    "    content_pred = content_generate_rating_estimate(row['userId'], row['movieId'], rating_df)\n",
    "    return (0.5 * collab_pred) + (0.5 * content_pred)"
   ]
  },
  {
   "cell_type": "markdown",
   "id": "cd796ae1",
   "metadata": {
    "papermill": {
     "duration": 1.577062,
     "end_time": "2024-09-08T11:22:27.531582",
     "exception": false,
     "start_time": "2024-09-08T11:22:25.954520",
     "status": "completed"
    },
    "tags": []
   },
   "source": [
    "We will simply use all the ratings columns we have generated to get the average of both methods"
   ]
  },
  {
   "cell_type": "code",
   "execution_count": 64,
   "id": "6965d952",
   "metadata": {
    "execution": {
     "iopub.execute_input": "2024-09-08T11:22:30.680722Z",
     "iopub.status.busy": "2024-09-08T11:22:30.680376Z",
     "iopub.status.idle": "2024-09-08T11:22:30.686712Z",
     "shell.execute_reply": "2024-09-08T11:22:30.685874Z"
    },
    "papermill": {
     "duration": 1.520175,
     "end_time": "2024-09-08T11:22:30.688693",
     "exception": false,
     "start_time": "2024-09-08T11:22:29.168518",
     "status": "completed"
    },
    "tags": []
   },
   "outputs": [
    {
     "data": {
      "text/plain": [
       "\"test['rating3'] = (0.5 * test['rating']) + (0.5 * test['rating2'])\\nsubm_df3 = test[['Id', 'rating3']]\\nsubm_df3['rating3'] = subm_df2['rating3'].round(1).abs()\\nsubm_df3.columns = ['Id', 'rating']\\nsubm_df3.to_csv('sample_submission3.csv', index=False)\\nsubm_df3.head()\""
      ]
     },
     "execution_count": 64,
     "metadata": {},
     "output_type": "execute_result"
    }
   ],
   "source": [
    "'''test['rating3'] = (0.5 * test['rating']) + (0.5 * test['rating2'])\n",
    "subm_df3 = test[['Id', 'rating3']]\n",
    "subm_df3['rating3'] = subm_df2['rating3'].round(1).abs()\n",
    "subm_df3.columns = ['Id', 'rating']\n",
    "subm_df3.to_csv('sample_submission3.csv', index=False)\n",
    "subm_df3.head()'''"
   ]
  }
 ],
 "metadata": {
  "kaggle": {
   "accelerator": "nvidiaTeslaT4",
   "dataSources": [
    {
     "databundleVersionId": 8778365,
     "sourceId": 81285,
     "sourceType": "competition"
    }
   ],
   "dockerImageVersionId": 30733,
   "isGpuEnabled": true,
   "isInternetEnabled": true,
   "language": "python",
   "sourceType": "notebook"
  },
  "kernelspec": {
   "display_name": "Python 3",
   "language": "python",
   "name": "python3"
  },
  "language_info": {
   "codemirror_mode": {
    "name": "ipython",
    "version": 3
   },
   "file_extension": ".py",
   "mimetype": "text/x-python",
   "name": "python",
   "nbconvert_exporter": "python",
   "pygments_lexer": "ipython3",
   "version": "3.10.13"
  },
  "papermill": {
   "default_parameters": {},
   "duration": 6131.791215,
   "end_time": "2024-09-08T11:22:35.291182",
   "environment_variables": {},
   "exception": null,
   "input_path": "__notebook__.ipynb",
   "output_path": "__notebook__.ipynb",
   "parameters": {},
   "start_time": "2024-09-08T09:40:23.499967",
   "version": "2.5.0"
  }
 },
 "nbformat": 4,
 "nbformat_minor": 5
}
